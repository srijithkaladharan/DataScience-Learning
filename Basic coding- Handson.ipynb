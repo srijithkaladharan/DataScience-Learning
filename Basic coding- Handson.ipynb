{
 "cells": [
  {
   "cell_type": "code",
   "execution_count": 3,
   "metadata": {},
   "outputs": [
    {
     "name": "stdout",
     "output_type": "stream",
     "text": [
      "Requirement already satisfied: pandas in c:\\users\\smrithkala\\anaconda3\\lib\\site-packages (0.24.2)\n",
      "Requirement already satisfied: python-dateutil>=2.5.0 in c:\\users\\smrithkala\\anaconda3\\lib\\site-packages (from pandas) (2.8.0)\n",
      "Requirement already satisfied: pytz>=2011k in c:\\users\\smrithkala\\anaconda3\\lib\\site-packages (from pandas) (2018.9)\n",
      "Requirement already satisfied: numpy>=1.12.0 in c:\\users\\smrithkala\\anaconda3\\lib\\site-packages (from pandas) (1.16.2)\n",
      "Requirement already satisfied: six>=1.5 in c:\\users\\smrithkala\\anaconda3\\lib\\site-packages (from python-dateutil>=2.5.0->pandas) (1.12.0)\n"
     ]
    }
   ],
   "source": [
    "#install a library\n",
    "!pip install pandas"
   ]
  },
  {
   "cell_type": "code",
   "execution_count": 6,
   "metadata": {},
   "outputs": [],
   "source": [
    "#load a library\n",
    "import pandas as pd\n",
    "import numpy as np"
   ]
  },
  {
   "cell_type": "code",
   "execution_count": 7,
   "metadata": {},
   "outputs": [],
   "source": [
    "#create a dataframe\n",
    "df = pd.DataFrame(np.random.rand(10,5))"
   ]
  },
  {
   "cell_type": "code",
   "execution_count": 8,
   "metadata": {},
   "outputs": [
    {
     "data": {
      "text/html": [
       "<div>\n",
       "<style scoped>\n",
       "    .dataframe tbody tr th:only-of-type {\n",
       "        vertical-align: middle;\n",
       "    }\n",
       "\n",
       "    .dataframe tbody tr th {\n",
       "        vertical-align: top;\n",
       "    }\n",
       "\n",
       "    .dataframe thead th {\n",
       "        text-align: right;\n",
       "    }\n",
       "</style>\n",
       "<table border=\"1\" class=\"dataframe\">\n",
       "  <thead>\n",
       "    <tr style=\"text-align: right;\">\n",
       "      <th></th>\n",
       "      <th>0</th>\n",
       "      <th>1</th>\n",
       "      <th>2</th>\n",
       "      <th>3</th>\n",
       "      <th>4</th>\n",
       "    </tr>\n",
       "  </thead>\n",
       "  <tbody>\n",
       "    <tr>\n",
       "      <th>0</th>\n",
       "      <td>0.076763</td>\n",
       "      <td>0.599647</td>\n",
       "      <td>0.143728</td>\n",
       "      <td>0.131656</td>\n",
       "      <td>0.868609</td>\n",
       "    </tr>\n",
       "    <tr>\n",
       "      <th>1</th>\n",
       "      <td>0.609558</td>\n",
       "      <td>0.295208</td>\n",
       "      <td>0.961242</td>\n",
       "      <td>0.292952</td>\n",
       "      <td>0.822730</td>\n",
       "    </tr>\n",
       "    <tr>\n",
       "      <th>2</th>\n",
       "      <td>0.371738</td>\n",
       "      <td>0.196949</td>\n",
       "      <td>0.806503</td>\n",
       "      <td>0.180295</td>\n",
       "      <td>0.248371</td>\n",
       "    </tr>\n",
       "    <tr>\n",
       "      <th>3</th>\n",
       "      <td>0.730128</td>\n",
       "      <td>0.348649</td>\n",
       "      <td>0.964546</td>\n",
       "      <td>0.878249</td>\n",
       "      <td>0.110860</td>\n",
       "    </tr>\n",
       "    <tr>\n",
       "      <th>4</th>\n",
       "      <td>0.148519</td>\n",
       "      <td>0.525885</td>\n",
       "      <td>0.930990</td>\n",
       "      <td>0.611419</td>\n",
       "      <td>0.876663</td>\n",
       "    </tr>\n",
       "    <tr>\n",
       "      <th>5</th>\n",
       "      <td>0.235297</td>\n",
       "      <td>0.178037</td>\n",
       "      <td>0.316950</td>\n",
       "      <td>0.130155</td>\n",
       "      <td>0.456817</td>\n",
       "    </tr>\n",
       "    <tr>\n",
       "      <th>6</th>\n",
       "      <td>0.515289</td>\n",
       "      <td>0.421160</td>\n",
       "      <td>0.980322</td>\n",
       "      <td>0.444456</td>\n",
       "      <td>0.020489</td>\n",
       "    </tr>\n",
       "    <tr>\n",
       "      <th>7</th>\n",
       "      <td>0.502788</td>\n",
       "      <td>0.007034</td>\n",
       "      <td>0.879112</td>\n",
       "      <td>0.699875</td>\n",
       "      <td>0.349508</td>\n",
       "    </tr>\n",
       "    <tr>\n",
       "      <th>8</th>\n",
       "      <td>0.564390</td>\n",
       "      <td>0.868974</td>\n",
       "      <td>0.456683</td>\n",
       "      <td>0.329101</td>\n",
       "      <td>0.465497</td>\n",
       "    </tr>\n",
       "    <tr>\n",
       "      <th>9</th>\n",
       "      <td>0.806027</td>\n",
       "      <td>0.395057</td>\n",
       "      <td>0.965515</td>\n",
       "      <td>0.785397</td>\n",
       "      <td>0.799929</td>\n",
       "    </tr>\n",
       "  </tbody>\n",
       "</table>\n",
       "</div>"
      ],
      "text/plain": [
       "          0         1         2         3         4\n",
       "0  0.076763  0.599647  0.143728  0.131656  0.868609\n",
       "1  0.609558  0.295208  0.961242  0.292952  0.822730\n",
       "2  0.371738  0.196949  0.806503  0.180295  0.248371\n",
       "3  0.730128  0.348649  0.964546  0.878249  0.110860\n",
       "4  0.148519  0.525885  0.930990  0.611419  0.876663\n",
       "5  0.235297  0.178037  0.316950  0.130155  0.456817\n",
       "6  0.515289  0.421160  0.980322  0.444456  0.020489\n",
       "7  0.502788  0.007034  0.879112  0.699875  0.349508\n",
       "8  0.564390  0.868974  0.456683  0.329101  0.465497\n",
       "9  0.806027  0.395057  0.965515  0.785397  0.799929"
      ]
     },
     "execution_count": 8,
     "metadata": {},
     "output_type": "execute_result"
    }
   ],
   "source": [
    "df"
   ]
  },
  {
   "cell_type": "code",
   "execution_count": 14,
   "metadata": {},
   "outputs": [
    {
     "name": "stdout",
     "output_type": "stream",
     "text": [
      "   a  b\n",
      "0  1  1\n",
      "1  2  2\n",
      "2  3  3\n",
      "3  4  4\n"
     ]
    }
   ],
   "source": [
    "#create a dictionary\n",
    "d={'a':[1,2,3,4],'b':[1,2,3,4]}\n",
    "dataframe = pd.DataFrame(d)\n",
    "dataframe #this will not get printed\n",
    "print(dataframe) #only this gets printed"
   ]
  },
  {
   "cell_type": "code",
   "execution_count": 22,
   "metadata": {},
   "outputs": [
    {
     "name": "stdout",
     "output_type": "stream",
     "text": [
      "{1, 2, 3, 4, 5, 6, 7, 8, 9, 10, 65, 23}\n"
     ]
    }
   ],
   "source": [
    "#create a set\n",
    "#duplicated will get removed and will arrange the elements in ascending order\n",
    "s = {1,2,3,4,1,2,1,2,10,9,8,7,6,5,5,4,3,4,3,65,23}\n",
    "s #prints right\n",
    "print(s) #has error in printing"
   ]
  },
  {
   "cell_type": "code",
   "execution_count": 16,
   "metadata": {},
   "outputs": [
    {
     "data": {
      "text/html": [
       "<div>\n",
       "<style scoped>\n",
       "    .dataframe tbody tr th:only-of-type {\n",
       "        vertical-align: middle;\n",
       "    }\n",
       "\n",
       "    .dataframe tbody tr th {\n",
       "        vertical-align: top;\n",
       "    }\n",
       "\n",
       "    .dataframe thead th {\n",
       "        text-align: right;\n",
       "    }\n",
       "</style>\n",
       "<table border=\"1\" class=\"dataframe\">\n",
       "  <thead>\n",
       "    <tr style=\"text-align: right;\">\n",
       "      <th></th>\n",
       "      <th>0</th>\n",
       "    </tr>\n",
       "  </thead>\n",
       "  <tbody>\n",
       "    <tr>\n",
       "      <th>0</th>\n",
       "      <td>1</td>\n",
       "    </tr>\n",
       "    <tr>\n",
       "      <th>1</th>\n",
       "      <td>2</td>\n",
       "    </tr>\n",
       "    <tr>\n",
       "      <th>2</th>\n",
       "      <td>3</td>\n",
       "    </tr>\n",
       "    <tr>\n",
       "      <th>3</th>\n",
       "      <td>4</td>\n",
       "    </tr>\n",
       "    <tr>\n",
       "      <th>4</th>\n",
       "      <td>5</td>\n",
       "    </tr>\n",
       "    <tr>\n",
       "      <th>5</th>\n",
       "      <td>6</td>\n",
       "    </tr>\n",
       "    <tr>\n",
       "      <th>6</th>\n",
       "      <td>7</td>\n",
       "    </tr>\n",
       "    <tr>\n",
       "      <th>7</th>\n",
       "      <td>8</td>\n",
       "    </tr>\n",
       "    <tr>\n",
       "      <th>8</th>\n",
       "      <td>9</td>\n",
       "    </tr>\n",
       "    <tr>\n",
       "      <th>9</th>\n",
       "      <td>10</td>\n",
       "    </tr>\n",
       "  </tbody>\n",
       "</table>\n",
       "</div>"
      ],
      "text/plain": [
       "    0\n",
       "0   1\n",
       "1   2\n",
       "2   3\n",
       "3   4\n",
       "4   5\n",
       "5   6\n",
       "6   7\n",
       "7   8\n",
       "8   9\n",
       "9  10"
      ]
     },
     "execution_count": 16,
     "metadata": {},
     "output_type": "execute_result"
    }
   ],
   "source": [
    "#creating a dataframe from set\n",
    "dff = pd.DataFrame(s)\n",
    "dff"
   ]
  },
  {
   "cell_type": "code",
   "execution_count": 17,
   "metadata": {},
   "outputs": [
    {
     "data": {
      "text/plain": [
       "{'a', 'f', 'g', 's', 'z'}"
      ]
     },
     "execution_count": 17,
     "metadata": {},
     "output_type": "execute_result"
    }
   ],
   "source": [
    "#set with string\n",
    "sett = {'g','f','a','f','z','s'}\n",
    "sett"
   ]
  },
  {
   "cell_type": "code",
   "execution_count": 20,
   "metadata": {},
   "outputs": [
    {
     "data": {
      "text/plain": [
       "{'!', 1, 4, '@', 'a', 'g'}"
      ]
     },
     "execution_count": 20,
     "metadata": {},
     "output_type": "execute_result"
    }
   ],
   "source": [
    "#set with numbers,strings,character\n",
    "settt = {'g',4,'a',1,'@','!'}\n",
    "settt"
   ]
  },
  {
   "cell_type": "code",
   "execution_count": 23,
   "metadata": {},
   "outputs": [
    {
     "data": {
      "text/plain": [
       "2"
      ]
     },
     "execution_count": 23,
     "metadata": {},
     "output_type": "execute_result"
    }
   ],
   "source": [
    "#create a tuple\n",
    "t=(1,2,3,1,2)\n",
    "t[1]"
   ]
  },
  {
   "cell_type": "code",
   "execution_count": 25,
   "metadata": {},
   "outputs": [
    {
     "data": {
      "text/plain": [
       "[1, 2, 5, 10, 1, 2]"
      ]
     },
     "execution_count": 25,
     "metadata": {},
     "output_type": "execute_result"
    }
   ],
   "source": [
    "#create a list\n",
    "l=[1,2,5,3,1,2]\n",
    "l\n",
    "l[3]=10\n",
    "l"
   ]
  },
  {
   "cell_type": "code",
   "execution_count": 26,
   "metadata": {},
   "outputs": [
    {
     "data": {
      "text/plain": [
       "0     1\n",
       "1     2\n",
       "2     5\n",
       "3    10\n",
       "4     1\n",
       "5     2\n",
       "dtype: int64"
      ]
     },
     "execution_count": 26,
     "metadata": {},
     "output_type": "execute_result"
    }
   ],
   "source": [
    "#create a series \n",
    "#series is a datatype in pandas\n",
    "#series is 1-Dimensional data\n",
    "#global size of series is (nx1)\n",
    "\n",
    "ss = pd.Series(l)\n",
    "ss"
   ]
  },
  {
   "cell_type": "code",
   "execution_count": 30,
   "metadata": {},
   "outputs": [
    {
     "name": "stdout",
     "output_type": "stream",
     "text": [
      "          0         1         2         3         4\n",
      "0  0.076763  0.599647  0.143728  0.131656  0.868609\n",
      "1  0.609558  0.295208  0.961242  0.292952  0.822730\n",
      "2  0.371738  0.196949  0.806503  0.180295  0.248371\n",
      "3  0.730128  0.348649  0.964546  0.878249  0.110860\n",
      "4  0.148519  0.525885  0.930990  0.611419  0.876663\n",
      "5  0.235297  0.178037  0.316950  0.130155  0.456817\n",
      "6  0.515289  0.421160  0.980322  0.444456  0.020489\n",
      "7  0.502788  0.007034  0.879112  0.699875  0.349508\n",
      "8  0.564390  0.868974  0.456683  0.329101  0.465497\n",
      "9  0.806027  0.395057  0.965515  0.785397  0.799929\n",
      "-----------------------------\n",
      "0    0.076763\n",
      "1    0.609558\n",
      "2    0.371738\n",
      "3    0.730128\n",
      "4    0.148519\n",
      "5    0.235297\n",
      "6    0.515289\n",
      "7    0.502788\n",
      "8    0.564390\n",
      "9    0.806027\n",
      "Name: 0, dtype: float64\n",
      "------------------------------\n",
      "<class 'pandas.core.series.Series'>\n"
     ]
    }
   ],
   "source": [
    "#a column in a dataframe is a series\n",
    "print(df)\n",
    "print('-----------------------------')\n",
    "srs = df[0]\n",
    "print(srs)\n",
    "print('------------------------------')\n",
    "print(type(srs))"
   ]
  },
  {
   "cell_type": "code",
   "execution_count": 34,
   "metadata": {},
   "outputs": [
    {
     "name": "stdout",
     "output_type": "stream",
     "text": [
      "0.6095583605567804\n",
      "<class 'numpy.float64'>\n"
     ]
    }
   ],
   "source": [
    "val = srs.iloc[1]\n",
    "print(val)\n",
    "print(type(val))"
   ]
  },
  {
   "cell_type": "markdown",
   "metadata": {},
   "source": [
    "Each Value inside a dataframe is formed of numpy\n",
    "Each Column or row in a dataframe is formed of series\n",
    "Group of series is known as dataframe\n",
    "\n",
    "val.value_counts() will throw an error. \n",
    "Since Pandas function wont work with a numpy type value. 'val' is of type 'numpy.float64'."
   ]
  },
  {
   "cell_type": "code",
   "execution_count": 35,
   "metadata": {},
   "outputs": [
    {
     "data": {
      "text/plain": [
       "0    0.609558\n",
       "1    0.295208\n",
       "2    0.961242\n",
       "3    0.292952\n",
       "4    0.822730\n",
       "Name: 1, dtype: float64"
      ]
     },
     "execution_count": 35,
     "metadata": {},
     "output_type": "execute_result"
    }
   ],
   "source": [
    "#row of dataframe into series\n",
    "srsRow = df.iloc[1,:]\n",
    "srsRow"
   ]
  },
  {
   "cell_type": "code",
   "execution_count": 38,
   "metadata": {},
   "outputs": [
    {
     "data": {
      "text/plain": [
       "0.421160    1\n",
       "0.525885    1\n",
       "0.348649    1\n",
       "0.196949    1\n",
       "0.007034    1\n",
       "0.599647    1\n",
       "0.178037    1\n",
       "0.395057    1\n",
       "0.868974    1\n",
       "0.295208    1\n",
       "Name: 1, dtype: int64"
      ]
     },
     "execution_count": 38,
     "metadata": {},
     "output_type": "execute_result"
    }
   ],
   "source": [
    "#value_counts() is used to get the count of unique values\n",
    "\n",
    "# df.value_counts() #will thow an error - 'DataFrame' object has no attribute 'value_counts'\n",
    "\n",
    "#srs.value_counts() #will work for series\n",
    "\n",
    "df[1].value_counts() #will work for a column of dataframe(which is a series)"
   ]
  },
  {
   "cell_type": "code",
   "execution_count": 40,
   "metadata": {},
   "outputs": [
    {
     "data": {
      "text/plain": [
       "<matplotlib.axes._subplots.AxesSubplot at 0x24811890c18>"
      ]
     },
     "execution_count": 40,
     "metadata": {},
     "output_type": "execute_result"
    },
    {
     "data": {
      "image/png": "[encoded data removed]",
      "text/plain": [
       "<Figure size 432x288 with 1 Axes>"
      ]
     },
     "metadata": {
      "needs_background": "light"
     },
     "output_type": "display_data"
    }
   ],
   "source": [
    "srs.hist()"
   ]
  },
  {
   "cell_type": "code",
   "execution_count": 42,
   "metadata": {},
   "outputs": [
    {
     "data": {
      "text/plain": [
       "3    2\n",
       "2    2\n",
       "1    2\n",
       "4    1\n",
       "dtype: int64"
      ]
     },
     "execution_count": 42,
     "metadata": {},
     "output_type": "execute_result"
    }
   ],
   "source": [
    "#value_counts() gives the count of the values present in the series\n",
    "pd.Series([1,2,3,4,1,2,3]).value_counts()"
   ]
  },
  {
   "cell_type": "code",
   "execution_count": 43,
   "metadata": {},
   "outputs": [
    {
     "data": {
      "text/plain": [
       "array([[0.07676314, 0.59964748, 0.14372822, 0.13165648, 0.86860879],\n",
       "       [0.60955836, 0.29520769, 0.9612417 , 0.29295227, 0.8227299 ],\n",
       "       [0.37173751, 0.19694924, 0.80650306, 0.18029548, 0.24837107],\n",
       "       [0.73012781, 0.34864873, 0.96454598, 0.87824906, 0.11085965],\n",
       "       [0.14851941, 0.52588509, 0.93099019, 0.61141935, 0.876663  ],\n",
       "       [0.23529695, 0.17803741, 0.31695035, 0.13015549, 0.45681713],\n",
       "       [0.51528856, 0.42116049, 0.98032155, 0.44445575, 0.02048861],\n",
       "       [0.50278759, 0.00703391, 0.87911209, 0.69987452, 0.3495085 ],\n",
       "       [0.5643897 , 0.86897379, 0.45668251, 0.32910095, 0.46549711],\n",
       "       [0.80602696, 0.39505659, 0.9655154 , 0.78539659, 0.79992927]])"
      ]
     },
     "execution_count": 43,
     "metadata": {},
     "output_type": "execute_result"
    }
   ],
   "source": [
    "#convert a dataframe to array\n",
    "arr = np.array(df)\n",
    "arr"
   ]
  },
  {
   "cell_type": "code",
   "execution_count": null,
   "metadata": {},
   "outputs": [],
   "source": []
  }
 ],
 "metadata": {
  "kernelspec": {
   "display_name": "Python 3",
   "language": "python",
   "name": "python3"
  },
  "language_info": {
   "codemirror_mode": {
    "name": "ipython",
    "version": 3
   },
   "file_extension": ".py",
   "mimetype": "text/x-python",
   "name": "python",
   "nbconvert_exporter": "python",
   "pygments_lexer": "ipython3",
   "version": "3.7.3"
  }
 },
 "nbformat": 4,
 "nbformat_minor": 2
}
