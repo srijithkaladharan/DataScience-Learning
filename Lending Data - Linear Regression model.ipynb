{
 "cells": [
  {
   "cell_type": "code",
   "execution_count": 1,
   "metadata": {},
   "outputs": [],
   "source": [
    "import pandas as pd"
   ]
  },
  {
   "cell_type": "code",
   "execution_count": 2,
   "metadata": {},
   "outputs": [],
   "source": [
    "data = pd.read_excel('Lending Data.xlsx')"
   ]
  },
  {
   "cell_type": "code",
   "execution_count": 3,
   "metadata": {},
   "outputs": [
    {
     "data": {
      "text/plain": [
       "Index(['Name of Lending Institution', 'HQ State', 'Rank', 'TA Ratio1',\n",
       "       'TBL Ratio1', 'Amount ($1,000)', 'Number ', 'Lender Asset Size',\n",
       "       'Amount ($1,000).1', 'Number .1', 'Unnamed: 10', 'Amount ($1,000).2',\n",
       "       'Number .2', 'CC Amount/TA1'],\n",
       "      dtype='object')"
      ]
     },
     "execution_count": 3,
     "metadata": {},
     "output_type": "execute_result"
    }
   ],
   "source": [
    "#Data Understanding\n",
    "\n",
    "data.columns"
   ]
  },
  {
   "cell_type": "code",
   "execution_count": 4,
   "metadata": {},
   "outputs": [
    {
     "name": "stdout",
     "output_type": "stream",
     "text": [
      "<class 'pandas.core.frame.DataFrame'>\n",
      "RangeIndex: 97 entries, 0 to 96\n",
      "Data columns (total 14 columns):\n",
      "Name of Lending Institution    96 non-null object\n",
      "HQ State                       93 non-null object\n",
      "Rank                           94 non-null object\n",
      "TA Ratio1                      94 non-null object\n",
      "TBL Ratio1                     94 non-null object\n",
      "Amount ($1,000)                94 non-null object\n",
      "Number                         94 non-null object\n",
      "Lender Asset Size              94 non-null object\n",
      "Amount ($1,000).1              94 non-null float64\n",
      "Number .1                      94 non-null float64\n",
      "Unnamed: 10                    0 non-null float64\n",
      "Amount ($1,000).2              94 non-null float64\n",
      "Number .2                      94 non-null float64\n",
      "CC Amount/TA1                  94 non-null object\n",
      "dtypes: float64(5), object(9)\n",
      "memory usage: 10.7+ KB\n"
     ]
    }
   ],
   "source": [
    "data.info()"
   ]
  },
  {
   "cell_type": "code",
   "execution_count": 7,
   "metadata": {},
   "outputs": [],
   "source": [
    "data = data.drop(['Lender Asset Size','Unnamed: 10'],axis=1)"
   ]
  },
  {
   "cell_type": "code",
   "execution_count": 8,
   "metadata": {},
   "outputs": [],
   "source": [
    "data = data.dropna()"
   ]
  },
  {
   "cell_type": "code",
   "execution_count": 9,
   "metadata": {},
   "outputs": [],
   "source": [
    "import numpy as np"
   ]
  },
  {
   "cell_type": "code",
   "execution_count": 11,
   "metadata": {},
   "outputs": [],
   "source": [
    "data = data.replace('NR',np.nan)"
   ]
  },
  {
   "cell_type": "code",
   "execution_count": 13,
   "metadata": {},
   "outputs": [],
   "source": [
    "data = data.dropna()"
   ]
  },
  {
   "cell_type": "code",
   "execution_count": 14,
   "metadata": {},
   "outputs": [
    {
     "data": {
      "text/html": [
       "<div>\n",
       "<style scoped>\n",
       "    .dataframe tbody tr th:only-of-type {\n",
       "        vertical-align: middle;\n",
       "    }\n",
       "\n",
       "    .dataframe tbody tr th {\n",
       "        vertical-align: top;\n",
       "    }\n",
       "\n",
       "    .dataframe thead th {\n",
       "        text-align: right;\n",
       "    }\n",
       "</style>\n",
       "<table border=\"1\" class=\"dataframe\">\n",
       "  <thead>\n",
       "    <tr style=\"text-align: right;\">\n",
       "      <th></th>\n",
       "      <th>Rank</th>\n",
       "      <th>Amount ($1,000).1</th>\n",
       "      <th>Number .1</th>\n",
       "      <th>Amount ($1,000).2</th>\n",
       "      <th>Number .2</th>\n",
       "    </tr>\n",
       "  </thead>\n",
       "  <tbody>\n",
       "    <tr>\n",
       "      <th>Rank</th>\n",
       "      <td>1.000000</td>\n",
       "      <td>-0.378378</td>\n",
       "      <td>-0.360916</td>\n",
       "      <td>-0.425851</td>\n",
       "      <td>-0.446111</td>\n",
       "    </tr>\n",
       "    <tr>\n",
       "      <th>Amount ($1,000).1</th>\n",
       "      <td>-0.378378</td>\n",
       "      <td>1.000000</td>\n",
       "      <td>0.931514</td>\n",
       "      <td>0.614758</td>\n",
       "      <td>0.611348</td>\n",
       "    </tr>\n",
       "    <tr>\n",
       "      <th>Number .1</th>\n",
       "      <td>-0.360916</td>\n",
       "      <td>0.931514</td>\n",
       "      <td>1.000000</td>\n",
       "      <td>0.413128</td>\n",
       "      <td>0.408228</td>\n",
       "    </tr>\n",
       "    <tr>\n",
       "      <th>Amount ($1,000).2</th>\n",
       "      <td>-0.425851</td>\n",
       "      <td>0.614758</td>\n",
       "      <td>0.413128</td>\n",
       "      <td>1.000000</td>\n",
       "      <td>0.989863</td>\n",
       "    </tr>\n",
       "    <tr>\n",
       "      <th>Number .2</th>\n",
       "      <td>-0.446111</td>\n",
       "      <td>0.611348</td>\n",
       "      <td>0.408228</td>\n",
       "      <td>0.989863</td>\n",
       "      <td>1.000000</td>\n",
       "    </tr>\n",
       "  </tbody>\n",
       "</table>\n",
       "</div>"
      ],
      "text/plain": [
       "                       Rank  Amount ($1,000).1  Number .1  Amount ($1,000).2  \\\n",
       "Rank               1.000000          -0.378378  -0.360916          -0.425851   \n",
       "Amount ($1,000).1 -0.378378           1.000000   0.931514           0.614758   \n",
       "Number .1         -0.360916           0.931514   1.000000           0.413128   \n",
       "Amount ($1,000).2 -0.425851           0.614758   0.413128           1.000000   \n",
       "Number .2         -0.446111           0.611348   0.408228           0.989863   \n",
       "\n",
       "                   Number .2  \n",
       "Rank               -0.446111  \n",
       "Amount ($1,000).1   0.611348  \n",
       "Number .1           0.408228  \n",
       "Amount ($1,000).2   0.989863  \n",
       "Number .2           1.000000  "
      ]
     },
     "execution_count": 14,
     "metadata": {},
     "output_type": "execute_result"
    }
   ],
   "source": [
    "data.corr()"
   ]
  },
  {
   "cell_type": "code",
   "execution_count": 15,
   "metadata": {},
   "outputs": [
    {
     "name": "stderr",
     "output_type": "stream",
     "text": [
      "C:\\Users\\smrithkala\\Anaconda3\\lib\\site-packages\\pandas\\core\\indexing.py:543: SettingWithCopyWarning: \n",
      "A value is trying to be set on a copy of a slice from a DataFrame.\n",
      "Try using .loc[row_indexer,col_indexer] = value instead\n",
      "\n",
      "See the caveats in the documentation: http://pandas.pydata.org/pandas-docs/stable/indexing.html#indexing-view-versus-copy\n",
      "  self.obj[item] = s\n"
     ]
    }
   ],
   "source": [
    "data.iloc[:,3:7] = data.iloc[:,3:7].astype('float')"
   ]
  },
  {
   "cell_type": "code",
   "execution_count": 16,
   "metadata": {},
   "outputs": [
    {
     "name": "stdout",
     "output_type": "stream",
     "text": [
      "<class 'pandas.core.frame.DataFrame'>\n",
      "Int64Index: 88 entries, 1 to 88\n",
      "Data columns (total 12 columns):\n",
      "Name of Lending Institution    88 non-null object\n",
      "HQ State                       88 non-null object\n",
      "Rank                           88 non-null float64\n",
      "TA Ratio1                      88 non-null float64\n",
      "TBL Ratio1                     88 non-null float64\n",
      "Amount ($1,000)                88 non-null float64\n",
      "Number                         88 non-null float64\n",
      "Amount ($1,000).1              88 non-null float64\n",
      "Number .1                      88 non-null float64\n",
      "Amount ($1,000).2              88 non-null float64\n",
      "Number .2                      88 non-null float64\n",
      "CC Amount/TA1                  88 non-null object\n",
      "dtypes: float64(9), object(3)\n",
      "memory usage: 8.9+ KB\n"
     ]
    }
   ],
   "source": [
    "data.info()"
   ]
  },
  {
   "cell_type": "code",
   "execution_count": 17,
   "metadata": {},
   "outputs": [
    {
     "data": {
      "text/plain": [
       "Index(['Name of Lending Institution', 'HQ State', 'Rank', 'TA Ratio1',\n",
       "       'TBL Ratio1', 'Amount ($1,000)', 'Number ', 'Amount ($1,000).1',\n",
       "       'Number .1', 'Amount ($1,000).2', 'Number .2', 'CC Amount/TA1'],\n",
       "      dtype='object')"
      ]
     },
     "execution_count": 17,
     "metadata": {},
     "output_type": "execute_result"
    }
   ],
   "source": [
    "data.columns"
   ]
  },
  {
   "cell_type": "code",
   "execution_count": 19,
   "metadata": {},
   "outputs": [
    {
     "data": {
      "text/plain": [
       "Index(['Name of Lending Institution', 'HQ State', 'Rank', 'TA Ratio1',\n",
       "       'TBL Ratio1', 'Amount ($1,000)', 'Number ', 'Amount ($1,000).1',\n",
       "       'Number .1', 'Amount ($1,000).2', 'Number .2'],\n",
       "      dtype='object')"
      ]
     },
     "execution_count": 19,
     "metadata": {},
     "output_type": "execute_result"
    }
   ],
   "source": [
    "data = data.drop(data.columns[11], axis=1)\n",
    "\n",
    "data.columns"
   ]
  },
  {
   "cell_type": "code",
   "execution_count": 20,
   "metadata": {},
   "outputs": [
    {
     "name": "stdout",
     "output_type": "stream",
     "text": [
      "<class 'pandas.core.frame.DataFrame'>\n",
      "Int64Index: 88 entries, 1 to 88\n",
      "Data columns (total 11 columns):\n",
      "Name of Lending Institution    88 non-null object\n",
      "HQ State                       88 non-null object\n",
      "Rank                           88 non-null float64\n",
      "TA Ratio1                      88 non-null float64\n",
      "TBL Ratio1                     88 non-null float64\n",
      "Amount ($1,000)                88 non-null float64\n",
      "Number                         88 non-null float64\n",
      "Amount ($1,000).1              88 non-null float64\n",
      "Number .1                      88 non-null float64\n",
      "Amount ($1,000).2              88 non-null float64\n",
      "Number .2                      88 non-null float64\n",
      "dtypes: float64(9), object(2)\n",
      "memory usage: 8.2+ KB\n"
     ]
    }
   ],
   "source": [
    "data.info()"
   ]
  },
  {
   "cell_type": "code",
   "execution_count": 21,
   "metadata": {},
   "outputs": [],
   "source": [
    "#we cannot use alphabetical data in the algorithms\n",
    "\n",
    "data = data.drop(['Name of Lending Institution','HQ State'], axis=1)"
   ]
  },
  {
   "cell_type": "code",
   "execution_count": 22,
   "metadata": {},
   "outputs": [
    {
     "name": "stdout",
     "output_type": "stream",
     "text": [
      "<class 'pandas.core.frame.DataFrame'>\n",
      "Int64Index: 88 entries, 1 to 88\n",
      "Data columns (total 9 columns):\n",
      "Rank                 88 non-null float64\n",
      "TA Ratio1            88 non-null float64\n",
      "TBL Ratio1           88 non-null float64\n",
      "Amount ($1,000)      88 non-null float64\n",
      "Number               88 non-null float64\n",
      "Amount ($1,000).1    88 non-null float64\n",
      "Number .1            88 non-null float64\n",
      "Amount ($1,000).2    88 non-null float64\n",
      "Number .2            88 non-null float64\n",
      "dtypes: float64(9)\n",
      "memory usage: 6.9 KB\n"
     ]
    }
   ],
   "source": [
    "data.info()"
   ]
  },
  {
   "cell_type": "markdown",
   "metadata": {},
   "source": [
    "#building model"
   ]
  },
  {
   "cell_type": "code",
   "execution_count": 23,
   "metadata": {},
   "outputs": [],
   "source": [
    "from sklearn import linear_model\n",
    "\n",
    "from sklearn.model_selection import train_test_split"
   ]
  },
  {
   "cell_type": "code",
   "execution_count": 24,
   "metadata": {},
   "outputs": [],
   "source": [
    "y = data.iloc[:,3]"
   ]
  },
  {
   "cell_type": "code",
   "execution_count": 25,
   "metadata": {},
   "outputs": [],
   "source": [
    "X = data.drop(['Amount ($1,000)'],axis=1)"
   ]
  },
  {
   "cell_type": "code",
   "execution_count": 26,
   "metadata": {},
   "outputs": [],
   "source": [
    "X_train,X_test,y_train,y_test = train_test_split(X,y,test_size=0.2)"
   ]
  },
  {
   "cell_type": "code",
   "execution_count": 27,
   "metadata": {},
   "outputs": [],
   "source": [
    "regr = linear_model.LinearRegression().fit(X_train,y_train)"
   ]
  },
  {
   "cell_type": "code",
   "execution_count": 28,
   "metadata": {},
   "outputs": [
    {
     "data": {
      "text/plain": [
       "array([-7.46975310e-11, -9.07572453e-08,  2.49395107e-09,  1.11521903e-13,\n",
       "        1.00000000e+00, -1.09356968e-13,  1.00000000e+00,  2.21153824e-13])"
      ]
     },
     "execution_count": 28,
     "metadata": {},
     "output_type": "execute_result"
    }
   ],
   "source": [
    "regr.coef_"
   ]
  },
  {
   "cell_type": "code",
   "execution_count": 29,
   "metadata": {},
   "outputs": [
    {
     "data": {
      "text/plain": [
       "4.190951585769653e-09"
      ]
     },
     "execution_count": 29,
     "metadata": {},
     "output_type": "execute_result"
    }
   ],
   "source": [
    "regr.intercept_"
   ]
  },
  {
   "cell_type": "code",
   "execution_count": 30,
   "metadata": {},
   "outputs": [],
   "source": [
    "predt = regr.predict(X_test)"
   ]
  },
  {
   "cell_type": "code",
   "execution_count": 31,
   "metadata": {},
   "outputs": [
    {
     "data": {
      "text/plain": [
       "1.0"
      ]
     },
     "execution_count": 31,
     "metadata": {},
     "output_type": "execute_result"
    }
   ],
   "source": [
    "regr.score(X_test,y_test)"
   ]
  },
  {
   "cell_type": "code",
   "execution_count": 32,
   "metadata": {},
   "outputs": [],
   "source": [
    "from sklearn.metrics import mean_squared_error, r2_score"
   ]
  },
  {
   "cell_type": "code",
   "execution_count": 33,
   "metadata": {},
   "outputs": [
    {
     "data": {
      "text/plain": [
       "3.972538641671359e-17"
      ]
     },
     "execution_count": 33,
     "metadata": {},
     "output_type": "execute_result"
    }
   ],
   "source": [
    "mean_squared_error(y_test,predt)"
   ]
  },
  {
   "cell_type": "code",
   "execution_count": 34,
   "metadata": {},
   "outputs": [
    {
     "data": {
      "text/plain": [
       "1.0"
      ]
     },
     "execution_count": 34,
     "metadata": {},
     "output_type": "execute_result"
    }
   ],
   "source": [
    "r2_score(y_test,predt)"
   ]
  },
  {
   "cell_type": "code",
   "execution_count": null,
   "metadata": {},
   "outputs": [],
   "source": []
  }
 ],
 "metadata": {
  "kernelspec": {
   "display_name": "Python 3",
   "language": "python",
   "name": "python3"
  },
  "language_info": {
   "codemirror_mode": {
    "name": "ipython",
    "version": 3
   },
   "file_extension": ".py",
   "mimetype": "text/x-python",
   "name": "python",
   "nbconvert_exporter": "python",
   "pygments_lexer": "ipython3",
   "version": "3.7.3"
  }
 },
 "nbformat": 4,
 "nbformat_minor": 2
}
