{
 "cells": [
  {
   "cell_type": "raw",
   "metadata": {},
   "source": [
    "DESCRIPTION\n",
    "The dataset provided contains movie reviews given by Amazon customers. Reviews were given between May 1996 and July 2014.\n",
    "Data Dictionary\n",
    "-UserID – 4848 customers who provided a rating for each movie\n",
    "-Movie 1 to Movie 206 – 206 movies for which ratings are provided by 4848 distinct users\n",
    "\n",
    "\n",
    "Data Considerations\n",
    "- All the users have not watched all the movies and therefore, all movies are not rated. These missing values are represented by NA.\n",
    "- Ratings are on a scale of -1 to 10 where -1 is the least rating and 10 is the best.\n",
    "Analysis Task\n",
    "\n",
    "\n",
    "Exploratory Data Analysis:\n",
    "-Which movies have maximum views/ratings?\n",
    "-What is the average rating for each movie? Define the top 5 movies with the maximum ratings.\n",
    "-Define the top 5 movies with the least audience.\n",
    "\n",
    "\n",
    "Recommendation Model: \n",
    "-Some of the movies hadn’t been watched and therefore, are not rated by the users. Netflix would like to take this as an opportunity and build a machine learning recommendation algorithm which provides the ratings for each of the users.\n",
    "-Divide the data into training and test data\n",
    "-Build a recommendation model on training data\n",
    "-Make predictions on the test data"
   ]
  },
  {
   "cell_type": "markdown",
   "metadata": {},
   "source": [
    "## Import Libraries and Dataset "
   ]
  },
  {
   "cell_type": "code",
   "execution_count": 1,
   "metadata": {},
   "outputs": [],
   "source": [
    "import numpy as np\n",
    "import pandas as pd"
   ]
  },
  {
   "cell_type": "code",
   "execution_count": 2,
   "metadata": {},
   "outputs": [],
   "source": [
    "import os"
   ]
  },
  {
   "cell_type": "code",
   "execution_count": 3,
   "metadata": {},
   "outputs": [],
   "source": [
    "os.chdir('D:/Pro/02-Artificial-Intelligence-Course/01-DataScienceWithPython/02-Projects/Project-amazonmoviesandtvratings')"
   ]
  },
  {
   "cell_type": "code",
   "execution_count": 4,
   "metadata": {},
   "outputs": [
    {
     "data": {
      "text/plain": [
       "'D:\\\\Pro\\\\02-Artificial-Intelligence-Course\\\\01-DataScienceWithPython\\\\02-Projects\\\\Project-amazonmoviesandtvratings'"
      ]
     },
     "execution_count": 4,
     "metadata": {},
     "output_type": "execute_result"
    }
   ],
   "source": [
    "pwd"
   ]
  },
  {
   "cell_type": "code",
   "execution_count": 5,
   "metadata": {},
   "outputs": [],
   "source": [
    "amazonData = pd.read_csv('Amazon - Movies and TV Ratings.csv')"
   ]
  },
  {
   "cell_type": "markdown",
   "metadata": {},
   "source": [
    "## Data Understanding"
   ]
  },
  {
   "cell_type": "code",
   "execution_count": 6,
   "metadata": {},
   "outputs": [
    {
     "data": {
      "text/plain": [
       "(4848, 207)"
      ]
     },
     "execution_count": 6,
     "metadata": {},
     "output_type": "execute_result"
    }
   ],
   "source": [
    "amazonData.shape"
   ]
  },
  {
   "cell_type": "code",
   "execution_count": 7,
   "metadata": {},
   "outputs": [
    {
     "data": {
      "text/plain": [
       "Index(['user_id', 'Movie1', 'Movie2', 'Movie3', 'Movie4', 'Movie5', 'Movie6',\n",
       "       'Movie7', 'Movie8', 'Movie9',\n",
       "       ...\n",
       "       'Movie197', 'Movie198', 'Movie199', 'Movie200', 'Movie201', 'Movie202',\n",
       "       'Movie203', 'Movie204', 'Movie205', 'Movie206'],\n",
       "      dtype='object', length=207)"
      ]
     },
     "execution_count": 7,
     "metadata": {},
     "output_type": "execute_result"
    }
   ],
   "source": [
    "amazonData.columns"
   ]
  },
  {
   "cell_type": "code",
   "execution_count": 8,
   "metadata": {},
   "outputs": [
    {
     "data": {
      "text/html": [
       "<div>\n",
       "<style scoped>\n",
       "    .dataframe tbody tr th:only-of-type {\n",
       "        vertical-align: middle;\n",
       "    }\n",
       "\n",
       "    .dataframe tbody tr th {\n",
       "        vertical-align: top;\n",
       "    }\n",
       "\n",
       "    .dataframe thead th {\n",
       "        text-align: right;\n",
       "    }\n",
       "</style>\n",
       "<table border=\"1\" class=\"dataframe\">\n",
       "  <thead>\n",
       "    <tr style=\"text-align: right;\">\n",
       "      <th></th>\n",
       "      <th>user_id</th>\n",
       "      <th>Movie1</th>\n",
       "      <th>Movie2</th>\n",
       "      <th>Movie3</th>\n",
       "      <th>Movie4</th>\n",
       "      <th>Movie5</th>\n",
       "      <th>Movie6</th>\n",
       "      <th>Movie7</th>\n",
       "      <th>Movie8</th>\n",
       "      <th>Movie9</th>\n",
       "      <th>...</th>\n",
       "      <th>Movie197</th>\n",
       "      <th>Movie198</th>\n",
       "      <th>Movie199</th>\n",
       "      <th>Movie200</th>\n",
       "      <th>Movie201</th>\n",
       "      <th>Movie202</th>\n",
       "      <th>Movie203</th>\n",
       "      <th>Movie204</th>\n",
       "      <th>Movie205</th>\n",
       "      <th>Movie206</th>\n",
       "    </tr>\n",
       "  </thead>\n",
       "  <tbody>\n",
       "    <tr>\n",
       "      <td>0</td>\n",
       "      <td>A3R5OBKS7OM2IR</td>\n",
       "      <td>5.0</td>\n",
       "      <td>5.0</td>\n",
       "      <td>NaN</td>\n",
       "      <td>NaN</td>\n",
       "      <td>NaN</td>\n",
       "      <td>NaN</td>\n",
       "      <td>NaN</td>\n",
       "      <td>NaN</td>\n",
       "      <td>NaN</td>\n",
       "      <td>...</td>\n",
       "      <td>NaN</td>\n",
       "      <td>NaN</td>\n",
       "      <td>NaN</td>\n",
       "      <td>NaN</td>\n",
       "      <td>NaN</td>\n",
       "      <td>NaN</td>\n",
       "      <td>NaN</td>\n",
       "      <td>NaN</td>\n",
       "      <td>NaN</td>\n",
       "      <td>NaN</td>\n",
       "    </tr>\n",
       "    <tr>\n",
       "      <td>1</td>\n",
       "      <td>AH3QC2PC1VTGP</td>\n",
       "      <td>NaN</td>\n",
       "      <td>NaN</td>\n",
       "      <td>2.0</td>\n",
       "      <td>NaN</td>\n",
       "      <td>NaN</td>\n",
       "      <td>NaN</td>\n",
       "      <td>NaN</td>\n",
       "      <td>NaN</td>\n",
       "      <td>NaN</td>\n",
       "      <td>...</td>\n",
       "      <td>NaN</td>\n",
       "      <td>NaN</td>\n",
       "      <td>NaN</td>\n",
       "      <td>NaN</td>\n",
       "      <td>NaN</td>\n",
       "      <td>NaN</td>\n",
       "      <td>NaN</td>\n",
       "      <td>NaN</td>\n",
       "      <td>NaN</td>\n",
       "      <td>NaN</td>\n",
       "    </tr>\n",
       "    <tr>\n",
       "      <td>2</td>\n",
       "      <td>A3LKP6WPMP9UKX</td>\n",
       "      <td>NaN</td>\n",
       "      <td>NaN</td>\n",
       "      <td>NaN</td>\n",
       "      <td>5.0</td>\n",
       "      <td>NaN</td>\n",
       "      <td>NaN</td>\n",
       "      <td>NaN</td>\n",
       "      <td>NaN</td>\n",
       "      <td>NaN</td>\n",
       "      <td>...</td>\n",
       "      <td>NaN</td>\n",
       "      <td>NaN</td>\n",
       "      <td>NaN</td>\n",
       "      <td>NaN</td>\n",
       "      <td>NaN</td>\n",
       "      <td>NaN</td>\n",
       "      <td>NaN</td>\n",
       "      <td>NaN</td>\n",
       "      <td>NaN</td>\n",
       "      <td>NaN</td>\n",
       "    </tr>\n",
       "    <tr>\n",
       "      <td>3</td>\n",
       "      <td>AVIY68KEPQ5ZD</td>\n",
       "      <td>NaN</td>\n",
       "      <td>NaN</td>\n",
       "      <td>NaN</td>\n",
       "      <td>5.0</td>\n",
       "      <td>NaN</td>\n",
       "      <td>NaN</td>\n",
       "      <td>NaN</td>\n",
       "      <td>NaN</td>\n",
       "      <td>NaN</td>\n",
       "      <td>...</td>\n",
       "      <td>NaN</td>\n",
       "      <td>NaN</td>\n",
       "      <td>NaN</td>\n",
       "      <td>NaN</td>\n",
       "      <td>NaN</td>\n",
       "      <td>NaN</td>\n",
       "      <td>NaN</td>\n",
       "      <td>NaN</td>\n",
       "      <td>NaN</td>\n",
       "      <td>NaN</td>\n",
       "    </tr>\n",
       "    <tr>\n",
       "      <td>4</td>\n",
       "      <td>A1CV1WROP5KTTW</td>\n",
       "      <td>NaN</td>\n",
       "      <td>NaN</td>\n",
       "      <td>NaN</td>\n",
       "      <td>NaN</td>\n",
       "      <td>5.0</td>\n",
       "      <td>NaN</td>\n",
       "      <td>NaN</td>\n",
       "      <td>NaN</td>\n",
       "      <td>NaN</td>\n",
       "      <td>...</td>\n",
       "      <td>NaN</td>\n",
       "      <td>NaN</td>\n",
       "      <td>NaN</td>\n",
       "      <td>NaN</td>\n",
       "      <td>NaN</td>\n",
       "      <td>NaN</td>\n",
       "      <td>NaN</td>\n",
       "      <td>NaN</td>\n",
       "      <td>NaN</td>\n",
       "      <td>NaN</td>\n",
       "    </tr>\n",
       "  </tbody>\n",
       "</table>\n",
       "<p>5 rows × 207 columns</p>\n",
       "</div>"
      ],
      "text/plain": [
       "          user_id  Movie1  Movie2  Movie3  Movie4  Movie5  Movie6  Movie7  \\\n",
       "0  A3R5OBKS7OM2IR     5.0     5.0     NaN     NaN     NaN     NaN     NaN   \n",
       "1   AH3QC2PC1VTGP     NaN     NaN     2.0     NaN     NaN     NaN     NaN   \n",
       "2  A3LKP6WPMP9UKX     NaN     NaN     NaN     5.0     NaN     NaN     NaN   \n",
       "3   AVIY68KEPQ5ZD     NaN     NaN     NaN     5.0     NaN     NaN     NaN   \n",
       "4  A1CV1WROP5KTTW     NaN     NaN     NaN     NaN     5.0     NaN     NaN   \n",
       "\n",
       "   Movie8  Movie9  ...  Movie197  Movie198  Movie199  Movie200  Movie201  \\\n",
       "0     NaN     NaN  ...       NaN       NaN       NaN       NaN       NaN   \n",
       "1     NaN     NaN  ...       NaN       NaN       NaN       NaN       NaN   \n",
       "2     NaN     NaN  ...       NaN       NaN       NaN       NaN       NaN   \n",
       "3     NaN     NaN  ...       NaN       NaN       NaN       NaN       NaN   \n",
       "4     NaN     NaN  ...       NaN       NaN       NaN       NaN       NaN   \n",
       "\n",
       "   Movie202  Movie203  Movie204  Movie205  Movie206  \n",
       "0       NaN       NaN       NaN       NaN       NaN  \n",
       "1       NaN       NaN       NaN       NaN       NaN  \n",
       "2       NaN       NaN       NaN       NaN       NaN  \n",
       "3       NaN       NaN       NaN       NaN       NaN  \n",
       "4       NaN       NaN       NaN       NaN       NaN  \n",
       "\n",
       "[5 rows x 207 columns]"
      ]
     },
     "execution_count": 8,
     "metadata": {},
     "output_type": "execute_result"
    }
   ],
   "source": [
    "amazonData.head()"
   ]
  },
  {
   "cell_type": "code",
   "execution_count": 9,
   "metadata": {
    "scrolled": true
   },
   "outputs": [
    {
     "data": {
      "text/html": [
       "<div>\n",
       "<style scoped>\n",
       "    .dataframe tbody tr th:only-of-type {\n",
       "        vertical-align: middle;\n",
       "    }\n",
       "\n",
       "    .dataframe tbody tr th {\n",
       "        vertical-align: top;\n",
       "    }\n",
       "\n",
       "    .dataframe thead th {\n",
       "        text-align: right;\n",
       "    }\n",
       "</style>\n",
       "<table border=\"1\" class=\"dataframe\">\n",
       "  <thead>\n",
       "    <tr style=\"text-align: right;\">\n",
       "      <th></th>\n",
       "      <th>Movie1</th>\n",
       "      <th>Movie2</th>\n",
       "      <th>Movie3</th>\n",
       "      <th>Movie4</th>\n",
       "      <th>Movie5</th>\n",
       "      <th>Movie6</th>\n",
       "      <th>Movie7</th>\n",
       "      <th>Movie8</th>\n",
       "      <th>Movie9</th>\n",
       "      <th>Movie10</th>\n",
       "      <th>...</th>\n",
       "      <th>Movie197</th>\n",
       "      <th>Movie198</th>\n",
       "      <th>Movie199</th>\n",
       "      <th>Movie200</th>\n",
       "      <th>Movie201</th>\n",
       "      <th>Movie202</th>\n",
       "      <th>Movie203</th>\n",
       "      <th>Movie204</th>\n",
       "      <th>Movie205</th>\n",
       "      <th>Movie206</th>\n",
       "    </tr>\n",
       "  </thead>\n",
       "  <tbody>\n",
       "    <tr>\n",
       "      <td>count</td>\n",
       "      <td>1.0</td>\n",
       "      <td>1.0</td>\n",
       "      <td>1.0</td>\n",
       "      <td>2.0</td>\n",
       "      <td>29.000000</td>\n",
       "      <td>1.0</td>\n",
       "      <td>1.0</td>\n",
       "      <td>1.0</td>\n",
       "      <td>1.0</td>\n",
       "      <td>1.0</td>\n",
       "      <td>...</td>\n",
       "      <td>5.000000</td>\n",
       "      <td>2.0</td>\n",
       "      <td>1.0</td>\n",
       "      <td>8.000000</td>\n",
       "      <td>3.000000</td>\n",
       "      <td>6.000000</td>\n",
       "      <td>1.0</td>\n",
       "      <td>8.000000</td>\n",
       "      <td>35.000000</td>\n",
       "      <td>13.000000</td>\n",
       "    </tr>\n",
       "    <tr>\n",
       "      <td>mean</td>\n",
       "      <td>5.0</td>\n",
       "      <td>5.0</td>\n",
       "      <td>2.0</td>\n",
       "      <td>5.0</td>\n",
       "      <td>4.103448</td>\n",
       "      <td>4.0</td>\n",
       "      <td>5.0</td>\n",
       "      <td>5.0</td>\n",
       "      <td>5.0</td>\n",
       "      <td>5.0</td>\n",
       "      <td>...</td>\n",
       "      <td>3.800000</td>\n",
       "      <td>5.0</td>\n",
       "      <td>5.0</td>\n",
       "      <td>4.625000</td>\n",
       "      <td>4.333333</td>\n",
       "      <td>4.333333</td>\n",
       "      <td>3.0</td>\n",
       "      <td>4.375000</td>\n",
       "      <td>4.628571</td>\n",
       "      <td>4.923077</td>\n",
       "    </tr>\n",
       "    <tr>\n",
       "      <td>std</td>\n",
       "      <td>NaN</td>\n",
       "      <td>NaN</td>\n",
       "      <td>NaN</td>\n",
       "      <td>0.0</td>\n",
       "      <td>1.496301</td>\n",
       "      <td>NaN</td>\n",
       "      <td>NaN</td>\n",
       "      <td>NaN</td>\n",
       "      <td>NaN</td>\n",
       "      <td>NaN</td>\n",
       "      <td>...</td>\n",
       "      <td>1.643168</td>\n",
       "      <td>0.0</td>\n",
       "      <td>NaN</td>\n",
       "      <td>0.517549</td>\n",
       "      <td>1.154701</td>\n",
       "      <td>1.632993</td>\n",
       "      <td>NaN</td>\n",
       "      <td>1.407886</td>\n",
       "      <td>0.910259</td>\n",
       "      <td>0.277350</td>\n",
       "    </tr>\n",
       "    <tr>\n",
       "      <td>min</td>\n",
       "      <td>5.0</td>\n",
       "      <td>5.0</td>\n",
       "      <td>2.0</td>\n",
       "      <td>5.0</td>\n",
       "      <td>1.000000</td>\n",
       "      <td>4.0</td>\n",
       "      <td>5.0</td>\n",
       "      <td>5.0</td>\n",
       "      <td>5.0</td>\n",
       "      <td>5.0</td>\n",
       "      <td>...</td>\n",
       "      <td>1.000000</td>\n",
       "      <td>5.0</td>\n",
       "      <td>5.0</td>\n",
       "      <td>4.000000</td>\n",
       "      <td>3.000000</td>\n",
       "      <td>1.000000</td>\n",
       "      <td>3.0</td>\n",
       "      <td>1.000000</td>\n",
       "      <td>1.000000</td>\n",
       "      <td>4.000000</td>\n",
       "    </tr>\n",
       "    <tr>\n",
       "      <td>25%</td>\n",
       "      <td>5.0</td>\n",
       "      <td>5.0</td>\n",
       "      <td>2.0</td>\n",
       "      <td>5.0</td>\n",
       "      <td>4.000000</td>\n",
       "      <td>4.0</td>\n",
       "      <td>5.0</td>\n",
       "      <td>5.0</td>\n",
       "      <td>5.0</td>\n",
       "      <td>5.0</td>\n",
       "      <td>...</td>\n",
       "      <td>4.000000</td>\n",
       "      <td>5.0</td>\n",
       "      <td>5.0</td>\n",
       "      <td>4.000000</td>\n",
       "      <td>4.000000</td>\n",
       "      <td>5.000000</td>\n",
       "      <td>3.0</td>\n",
       "      <td>4.750000</td>\n",
       "      <td>5.000000</td>\n",
       "      <td>5.000000</td>\n",
       "    </tr>\n",
       "    <tr>\n",
       "      <td>50%</td>\n",
       "      <td>5.0</td>\n",
       "      <td>5.0</td>\n",
       "      <td>2.0</td>\n",
       "      <td>5.0</td>\n",
       "      <td>5.000000</td>\n",
       "      <td>4.0</td>\n",
       "      <td>5.0</td>\n",
       "      <td>5.0</td>\n",
       "      <td>5.0</td>\n",
       "      <td>5.0</td>\n",
       "      <td>...</td>\n",
       "      <td>4.000000</td>\n",
       "      <td>5.0</td>\n",
       "      <td>5.0</td>\n",
       "      <td>5.000000</td>\n",
       "      <td>5.000000</td>\n",
       "      <td>5.000000</td>\n",
       "      <td>3.0</td>\n",
       "      <td>5.000000</td>\n",
       "      <td>5.000000</td>\n",
       "      <td>5.000000</td>\n",
       "    </tr>\n",
       "    <tr>\n",
       "      <td>75%</td>\n",
       "      <td>5.0</td>\n",
       "      <td>5.0</td>\n",
       "      <td>2.0</td>\n",
       "      <td>5.0</td>\n",
       "      <td>5.000000</td>\n",
       "      <td>4.0</td>\n",
       "      <td>5.0</td>\n",
       "      <td>5.0</td>\n",
       "      <td>5.0</td>\n",
       "      <td>5.0</td>\n",
       "      <td>...</td>\n",
       "      <td>5.000000</td>\n",
       "      <td>5.0</td>\n",
       "      <td>5.0</td>\n",
       "      <td>5.000000</td>\n",
       "      <td>5.000000</td>\n",
       "      <td>5.000000</td>\n",
       "      <td>3.0</td>\n",
       "      <td>5.000000</td>\n",
       "      <td>5.000000</td>\n",
       "      <td>5.000000</td>\n",
       "    </tr>\n",
       "    <tr>\n",
       "      <td>max</td>\n",
       "      <td>5.0</td>\n",
       "      <td>5.0</td>\n",
       "      <td>2.0</td>\n",
       "      <td>5.0</td>\n",
       "      <td>5.000000</td>\n",
       "      <td>4.0</td>\n",
       "      <td>5.0</td>\n",
       "      <td>5.0</td>\n",
       "      <td>5.0</td>\n",
       "      <td>5.0</td>\n",
       "      <td>...</td>\n",
       "      <td>5.000000</td>\n",
       "      <td>5.0</td>\n",
       "      <td>5.0</td>\n",
       "      <td>5.000000</td>\n",
       "      <td>5.000000</td>\n",
       "      <td>5.000000</td>\n",
       "      <td>3.0</td>\n",
       "      <td>5.000000</td>\n",
       "      <td>5.000000</td>\n",
       "      <td>5.000000</td>\n",
       "    </tr>\n",
       "  </tbody>\n",
       "</table>\n",
       "<p>8 rows × 206 columns</p>\n",
       "</div>"
      ],
      "text/plain": [
       "       Movie1  Movie2  Movie3  Movie4     Movie5  Movie6  Movie7  Movie8  \\\n",
       "count     1.0     1.0     1.0     2.0  29.000000     1.0     1.0     1.0   \n",
       "mean      5.0     5.0     2.0     5.0   4.103448     4.0     5.0     5.0   \n",
       "std       NaN     NaN     NaN     0.0   1.496301     NaN     NaN     NaN   \n",
       "min       5.0     5.0     2.0     5.0   1.000000     4.0     5.0     5.0   \n",
       "25%       5.0     5.0     2.0     5.0   4.000000     4.0     5.0     5.0   \n",
       "50%       5.0     5.0     2.0     5.0   5.000000     4.0     5.0     5.0   \n",
       "75%       5.0     5.0     2.0     5.0   5.000000     4.0     5.0     5.0   \n",
       "max       5.0     5.0     2.0     5.0   5.000000     4.0     5.0     5.0   \n",
       "\n",
       "       Movie9  Movie10  ...  Movie197  Movie198  Movie199  Movie200  Movie201  \\\n",
       "count     1.0      1.0  ...  5.000000       2.0       1.0  8.000000  3.000000   \n",
       "mean      5.0      5.0  ...  3.800000       5.0       5.0  4.625000  4.333333   \n",
       "std       NaN      NaN  ...  1.643168       0.0       NaN  0.517549  1.154701   \n",
       "min       5.0      5.0  ...  1.000000       5.0       5.0  4.000000  3.000000   \n",
       "25%       5.0      5.0  ...  4.000000       5.0       5.0  4.000000  4.000000   \n",
       "50%       5.0      5.0  ...  4.000000       5.0       5.0  5.000000  5.000000   \n",
       "75%       5.0      5.0  ...  5.000000       5.0       5.0  5.000000  5.000000   \n",
       "max       5.0      5.0  ...  5.000000       5.0       5.0  5.000000  5.000000   \n",
       "\n",
       "       Movie202  Movie203  Movie204   Movie205   Movie206  \n",
       "count  6.000000       1.0  8.000000  35.000000  13.000000  \n",
       "mean   4.333333       3.0  4.375000   4.628571   4.923077  \n",
       "std    1.632993       NaN  1.407886   0.910259   0.277350  \n",
       "min    1.000000       3.0  1.000000   1.000000   4.000000  \n",
       "25%    5.000000       3.0  4.750000   5.000000   5.000000  \n",
       "50%    5.000000       3.0  5.000000   5.000000   5.000000  \n",
       "75%    5.000000       3.0  5.000000   5.000000   5.000000  \n",
       "max    5.000000       3.0  5.000000   5.000000   5.000000  \n",
       "\n",
       "[8 rows x 206 columns]"
      ]
     },
     "execution_count": 9,
     "metadata": {},
     "output_type": "execute_result"
    }
   ],
   "source": [
    "amazonData.describe()"
   ]
  },
  {
   "cell_type": "code",
   "execution_count": 10,
   "metadata": {},
   "outputs": [
    {
     "name": "stdout",
     "output_type": "stream",
     "text": [
      "<class 'pandas.core.frame.DataFrame'>\n",
      "RangeIndex: 4848 entries, 0 to 4847\n",
      "Columns: 207 entries, user_id to Movie206\n",
      "dtypes: float64(206), object(1)\n",
      "memory usage: 7.7+ MB\n"
     ]
    }
   ],
   "source": [
    "amazonData.info()"
   ]
  },
  {
   "cell_type": "code",
   "execution_count": 11,
   "metadata": {},
   "outputs": [
    {
     "data": {
      "text/plain": [
       "4848"
      ]
     },
     "execution_count": 11,
     "metadata": {},
     "output_type": "execute_result"
    }
   ],
   "source": [
    "len(amazonData['user_id'].unique())"
   ]
  },
  {
   "cell_type": "markdown",
   "metadata": {},
   "source": [
    "## Data Understanding Report :\n",
    "\n",
    "1) There are 4848 rows and 207 columns\n",
    "\n",
    "2) There are 4848 unique users"
   ]
  },
  {
   "cell_type": "markdown",
   "metadata": {},
   "source": [
    "------"
   ]
  },
  {
   "cell_type": "code",
   "execution_count": 12,
   "metadata": {},
   "outputs": [],
   "source": [
    "ColNullValueCount = amazonData.isna().sum()"
   ]
  },
  {
   "cell_type": "code",
   "execution_count": 13,
   "metadata": {},
   "outputs": [
    {
     "data": {
      "text/plain": [
       "'user_id'"
      ]
     },
     "execution_count": 13,
     "metadata": {},
     "output_type": "execute_result"
    }
   ],
   "source": [
    "ColsToSort = list(amazonData.columns)\n",
    "ColsToSort.pop(0)"
   ]
  },
  {
   "cell_type": "markdown",
   "metadata": {},
   "source": [
    "-----"
   ]
  },
  {
   "cell_type": "markdown",
   "metadata": {},
   "source": [
    "## EXPLORATORY DATA ANALYSIS"
   ]
  },
  {
   "cell_type": "markdown",
   "metadata": {},
   "source": [
    "## Which movies have maximum views/ratings?"
   ]
  },
  {
   "cell_type": "code",
   "execution_count": 14,
   "metadata": {},
   "outputs": [
    {
     "data": {
      "text/plain": [
       "Movie127    2313\n",
       "Movie140     578\n",
       "Movie16      320\n",
       "Movie103     272\n",
       "Movie29      243\n",
       "Movie91      128\n",
       "Movie92      101\n",
       "Movie89       83\n",
       "Movie158      66\n",
       "Movie108      54\n",
       "dtype: int64"
      ]
     },
     "execution_count": 14,
     "metadata": {},
     "output_type": "execute_result"
    }
   ],
   "source": [
    "movies = amazonData.drop('user_id',axis=1)\n",
    "\n",
    "movies.count().sort_values(ascending=False).head(10)"
   ]
  },
  {
   "cell_type": "markdown",
   "metadata": {},
   "source": [
    "----"
   ]
  },
  {
   "cell_type": "markdown",
   "metadata": {},
   "source": [
    "## What is the average rating for each movie? \n",
    "## Define the top 5 movies with the maximum ratings."
   ]
  },
  {
   "cell_type": "code",
   "execution_count": 15,
   "metadata": {},
   "outputs": [
    {
     "data": {
      "text/plain": [
       "Movie1      5.0\n",
       "Movie55     5.0\n",
       "Movie131    5.0\n",
       "Movie132    5.0\n",
       "Movie133    5.0\n",
       "dtype: float64"
      ]
     },
     "execution_count": 15,
     "metadata": {},
     "output_type": "execute_result"
    }
   ],
   "source": [
    "amazonData[ColsToSort].mean().sort_values(ascending=False).head(5)"
   ]
  },
  {
   "cell_type": "code",
   "execution_count": 16,
   "metadata": {},
   "outputs": [
    {
     "name": "stdout",
     "output_type": "stream",
     "text": [
      "Number of Movies with Average Rating equal to 5.0 :  103\n",
      "Number of Movies with Average Rating greater than 5.0 :  0\n",
      "Number of Movies with Average Rating lesser than 5.0 :  103\n"
     ]
    }
   ],
   "source": [
    "avgRatings = amazonData[ColsToSort].mean() \n",
    "print(\"Number of Movies with Average Rating equal to 5.0 : \",avgRatings[avgRatings == 5.0].count())\n",
    "print(\"Number of Movies with Average Rating greater than 5.0 : \",avgRatings[avgRatings > 5.0].count())\n",
    "print(\"Number of Movies with Average Rating lesser than 5.0 : \",avgRatings[avgRatings < 5.0].count())"
   ]
  },
  {
   "cell_type": "markdown",
   "metadata": {},
   "source": [
    "---"
   ]
  },
  {
   "cell_type": "markdown",
   "metadata": {},
   "source": [
    "## Define the top 5 movies with the least audience"
   ]
  },
  {
   "cell_type": "code",
   "execution_count": 17,
   "metadata": {},
   "outputs": [],
   "source": [
    "movieCount = movies.count().sort_values(ascending=True)"
   ]
  },
  {
   "cell_type": "code",
   "execution_count": 18,
   "metadata": {},
   "outputs": [
    {
     "data": {
      "text/plain": [
       "Movie1      1\n",
       "Movie71     1\n",
       "Movie145    1\n",
       "Movie69     1\n",
       "Movie68     1\n",
       "dtype: int64"
      ]
     },
     "execution_count": 18,
     "metadata": {},
     "output_type": "execute_result"
    }
   ],
   "source": [
    "movieCount.head()"
   ]
  },
  {
   "cell_type": "code",
   "execution_count": 19,
   "metadata": {},
   "outputs": [
    {
     "name": "stdout",
     "output_type": "stream",
     "text": [
      "The least number of views/audience for a movie is 1\n",
      "The total number of movies with 1 view/audience is :  89\n"
     ]
    }
   ],
   "source": [
    "print(\"The least number of views/audience for a movie is 1\")\n",
    "print(\"The total number of movies with 1 view/audience is : \", movieCount[movieCount == 1 ].count())"
   ]
  },
  {
   "cell_type": "markdown",
   "metadata": {},
   "source": [
    "---"
   ]
  },
  {
   "cell_type": "markdown",
   "metadata": {},
   "source": [
    "## Recommendation Model"
   ]
  },
  {
   "cell_type": "code",
   "execution_count": 20,
   "metadata": {},
   "outputs": [
    {
     "data": {
      "text/html": [
       "<div>\n",
       "<style scoped>\n",
       "    .dataframe tbody tr th:only-of-type {\n",
       "        vertical-align: middle;\n",
       "    }\n",
       "\n",
       "    .dataframe tbody tr th {\n",
       "        vertical-align: top;\n",
       "    }\n",
       "\n",
       "    .dataframe thead th {\n",
       "        text-align: right;\n",
       "    }\n",
       "</style>\n",
       "<table border=\"1\" class=\"dataframe\">\n",
       "  <thead>\n",
       "    <tr style=\"text-align: right;\">\n",
       "      <th></th>\n",
       "      <th>Movie1</th>\n",
       "      <th>Movie2</th>\n",
       "      <th>Movie3</th>\n",
       "      <th>Movie4</th>\n",
       "      <th>Movie5</th>\n",
       "      <th>Movie6</th>\n",
       "      <th>Movie7</th>\n",
       "      <th>Movie8</th>\n",
       "      <th>Movie9</th>\n",
       "      <th>Movie10</th>\n",
       "      <th>...</th>\n",
       "      <th>Movie197</th>\n",
       "      <th>Movie198</th>\n",
       "      <th>Movie199</th>\n",
       "      <th>Movie200</th>\n",
       "      <th>Movie201</th>\n",
       "      <th>Movie202</th>\n",
       "      <th>Movie203</th>\n",
       "      <th>Movie204</th>\n",
       "      <th>Movie205</th>\n",
       "      <th>Movie206</th>\n",
       "    </tr>\n",
       "  </thead>\n",
       "  <tbody>\n",
       "    <tr>\n",
       "      <td>0</td>\n",
       "      <td>5.0</td>\n",
       "      <td>5.0</td>\n",
       "      <td>NaN</td>\n",
       "      <td>NaN</td>\n",
       "      <td>NaN</td>\n",
       "      <td>NaN</td>\n",
       "      <td>NaN</td>\n",
       "      <td>NaN</td>\n",
       "      <td>NaN</td>\n",
       "      <td>NaN</td>\n",
       "      <td>...</td>\n",
       "      <td>NaN</td>\n",
       "      <td>NaN</td>\n",
       "      <td>NaN</td>\n",
       "      <td>NaN</td>\n",
       "      <td>NaN</td>\n",
       "      <td>NaN</td>\n",
       "      <td>NaN</td>\n",
       "      <td>NaN</td>\n",
       "      <td>NaN</td>\n",
       "      <td>NaN</td>\n",
       "    </tr>\n",
       "    <tr>\n",
       "      <td>1</td>\n",
       "      <td>NaN</td>\n",
       "      <td>NaN</td>\n",
       "      <td>2.0</td>\n",
       "      <td>NaN</td>\n",
       "      <td>NaN</td>\n",
       "      <td>NaN</td>\n",
       "      <td>NaN</td>\n",
       "      <td>NaN</td>\n",
       "      <td>NaN</td>\n",
       "      <td>NaN</td>\n",
       "      <td>...</td>\n",
       "      <td>NaN</td>\n",
       "      <td>NaN</td>\n",
       "      <td>NaN</td>\n",
       "      <td>NaN</td>\n",
       "      <td>NaN</td>\n",
       "      <td>NaN</td>\n",
       "      <td>NaN</td>\n",
       "      <td>NaN</td>\n",
       "      <td>NaN</td>\n",
       "      <td>NaN</td>\n",
       "    </tr>\n",
       "    <tr>\n",
       "      <td>2</td>\n",
       "      <td>NaN</td>\n",
       "      <td>NaN</td>\n",
       "      <td>NaN</td>\n",
       "      <td>5.0</td>\n",
       "      <td>NaN</td>\n",
       "      <td>NaN</td>\n",
       "      <td>NaN</td>\n",
       "      <td>NaN</td>\n",
       "      <td>NaN</td>\n",
       "      <td>NaN</td>\n",
       "      <td>...</td>\n",
       "      <td>NaN</td>\n",
       "      <td>NaN</td>\n",
       "      <td>NaN</td>\n",
       "      <td>NaN</td>\n",
       "      <td>NaN</td>\n",
       "      <td>NaN</td>\n",
       "      <td>NaN</td>\n",
       "      <td>NaN</td>\n",
       "      <td>NaN</td>\n",
       "      <td>NaN</td>\n",
       "    </tr>\n",
       "    <tr>\n",
       "      <td>3</td>\n",
       "      <td>NaN</td>\n",
       "      <td>NaN</td>\n",
       "      <td>NaN</td>\n",
       "      <td>5.0</td>\n",
       "      <td>NaN</td>\n",
       "      <td>NaN</td>\n",
       "      <td>NaN</td>\n",
       "      <td>NaN</td>\n",
       "      <td>NaN</td>\n",
       "      <td>NaN</td>\n",
       "      <td>...</td>\n",
       "      <td>NaN</td>\n",
       "      <td>NaN</td>\n",
       "      <td>NaN</td>\n",
       "      <td>NaN</td>\n",
       "      <td>NaN</td>\n",
       "      <td>NaN</td>\n",
       "      <td>NaN</td>\n",
       "      <td>NaN</td>\n",
       "      <td>NaN</td>\n",
       "      <td>NaN</td>\n",
       "    </tr>\n",
       "    <tr>\n",
       "      <td>4</td>\n",
       "      <td>NaN</td>\n",
       "      <td>NaN</td>\n",
       "      <td>NaN</td>\n",
       "      <td>NaN</td>\n",
       "      <td>5.0</td>\n",
       "      <td>NaN</td>\n",
       "      <td>NaN</td>\n",
       "      <td>NaN</td>\n",
       "      <td>NaN</td>\n",
       "      <td>NaN</td>\n",
       "      <td>...</td>\n",
       "      <td>NaN</td>\n",
       "      <td>NaN</td>\n",
       "      <td>NaN</td>\n",
       "      <td>NaN</td>\n",
       "      <td>NaN</td>\n",
       "      <td>NaN</td>\n",
       "      <td>NaN</td>\n",
       "      <td>NaN</td>\n",
       "      <td>NaN</td>\n",
       "      <td>NaN</td>\n",
       "    </tr>\n",
       "  </tbody>\n",
       "</table>\n",
       "<p>5 rows × 206 columns</p>\n",
       "</div>"
      ],
      "text/plain": [
       "   Movie1  Movie2  Movie3  Movie4  Movie5  Movie6  Movie7  Movie8  Movie9  \\\n",
       "0     5.0     5.0     NaN     NaN     NaN     NaN     NaN     NaN     NaN   \n",
       "1     NaN     NaN     2.0     NaN     NaN     NaN     NaN     NaN     NaN   \n",
       "2     NaN     NaN     NaN     5.0     NaN     NaN     NaN     NaN     NaN   \n",
       "3     NaN     NaN     NaN     5.0     NaN     NaN     NaN     NaN     NaN   \n",
       "4     NaN     NaN     NaN     NaN     5.0     NaN     NaN     NaN     NaN   \n",
       "\n",
       "   Movie10  ...  Movie197  Movie198  Movie199  Movie200  Movie201  Movie202  \\\n",
       "0      NaN  ...       NaN       NaN       NaN       NaN       NaN       NaN   \n",
       "1      NaN  ...       NaN       NaN       NaN       NaN       NaN       NaN   \n",
       "2      NaN  ...       NaN       NaN       NaN       NaN       NaN       NaN   \n",
       "3      NaN  ...       NaN       NaN       NaN       NaN       NaN       NaN   \n",
       "4      NaN  ...       NaN       NaN       NaN       NaN       NaN       NaN   \n",
       "\n",
       "   Movie203  Movie204  Movie205  Movie206  \n",
       "0       NaN       NaN       NaN       NaN  \n",
       "1       NaN       NaN       NaN       NaN  \n",
       "2       NaN       NaN       NaN       NaN  \n",
       "3       NaN       NaN       NaN       NaN  \n",
       "4       NaN       NaN       NaN       NaN  \n",
       "\n",
       "[5 rows x 206 columns]"
      ]
     },
     "execution_count": 20,
     "metadata": {},
     "output_type": "execute_result"
    }
   ],
   "source": [
    "movies.head()"
   ]
  },
  {
   "cell_type": "raw",
   "metadata": {},
   "source": [
    "# We have many null values. Hence this is a sparse matrix."
   ]
  },
  {
   "cell_type": "code",
   "execution_count": 26,
   "metadata": {},
   "outputs": [],
   "source": [
    "from surprise import Reader\n",
    "from surprise import accuracy\n",
    "from surprise import Dataset\n",
    "from surprise.model_selection import train_test_split"
   ]
  },
  {
   "cell_type": "raw",
   "metadata": {},
   "source": [
    "# surprise library is built up on scikit-learn library\n",
    "# surprise library is used for building recommendation systems"
   ]
  },
  {
   "cell_type": "code",
   "execution_count": 22,
   "metadata": {},
   "outputs": [
    {
     "data": {
      "text/html": [
       "<div>\n",
       "<style scoped>\n",
       "    .dataframe tbody tr th:only-of-type {\n",
       "        vertical-align: middle;\n",
       "    }\n",
       "\n",
       "    .dataframe tbody tr th {\n",
       "        vertical-align: top;\n",
       "    }\n",
       "\n",
       "    .dataframe thead th {\n",
       "        text-align: right;\n",
       "    }\n",
       "</style>\n",
       "<table border=\"1\" class=\"dataframe\">\n",
       "  <thead>\n",
       "    <tr style=\"text-align: right;\">\n",
       "      <th></th>\n",
       "      <th>user_id</th>\n",
       "      <th>Movie1</th>\n",
       "      <th>Movie2</th>\n",
       "      <th>Movie3</th>\n",
       "      <th>Movie4</th>\n",
       "      <th>Movie5</th>\n",
       "      <th>Movie6</th>\n",
       "      <th>Movie7</th>\n",
       "      <th>Movie8</th>\n",
       "      <th>Movie9</th>\n",
       "      <th>...</th>\n",
       "      <th>Movie197</th>\n",
       "      <th>Movie198</th>\n",
       "      <th>Movie199</th>\n",
       "      <th>Movie200</th>\n",
       "      <th>Movie201</th>\n",
       "      <th>Movie202</th>\n",
       "      <th>Movie203</th>\n",
       "      <th>Movie204</th>\n",
       "      <th>Movie205</th>\n",
       "      <th>Movie206</th>\n",
       "    </tr>\n",
       "  </thead>\n",
       "  <tbody>\n",
       "    <tr>\n",
       "      <td>0</td>\n",
       "      <td>A3R5OBKS7OM2IR</td>\n",
       "      <td>5.0</td>\n",
       "      <td>5.0</td>\n",
       "      <td>NaN</td>\n",
       "      <td>NaN</td>\n",
       "      <td>NaN</td>\n",
       "      <td>NaN</td>\n",
       "      <td>NaN</td>\n",
       "      <td>NaN</td>\n",
       "      <td>NaN</td>\n",
       "      <td>...</td>\n",
       "      <td>NaN</td>\n",
       "      <td>NaN</td>\n",
       "      <td>NaN</td>\n",
       "      <td>NaN</td>\n",
       "      <td>NaN</td>\n",
       "      <td>NaN</td>\n",
       "      <td>NaN</td>\n",
       "      <td>NaN</td>\n",
       "      <td>NaN</td>\n",
       "      <td>NaN</td>\n",
       "    </tr>\n",
       "    <tr>\n",
       "      <td>1</td>\n",
       "      <td>AH3QC2PC1VTGP</td>\n",
       "      <td>NaN</td>\n",
       "      <td>NaN</td>\n",
       "      <td>2.0</td>\n",
       "      <td>NaN</td>\n",
       "      <td>NaN</td>\n",
       "      <td>NaN</td>\n",
       "      <td>NaN</td>\n",
       "      <td>NaN</td>\n",
       "      <td>NaN</td>\n",
       "      <td>...</td>\n",
       "      <td>NaN</td>\n",
       "      <td>NaN</td>\n",
       "      <td>NaN</td>\n",
       "      <td>NaN</td>\n",
       "      <td>NaN</td>\n",
       "      <td>NaN</td>\n",
       "      <td>NaN</td>\n",
       "      <td>NaN</td>\n",
       "      <td>NaN</td>\n",
       "      <td>NaN</td>\n",
       "    </tr>\n",
       "    <tr>\n",
       "      <td>2</td>\n",
       "      <td>A3LKP6WPMP9UKX</td>\n",
       "      <td>NaN</td>\n",
       "      <td>NaN</td>\n",
       "      <td>NaN</td>\n",
       "      <td>5.0</td>\n",
       "      <td>NaN</td>\n",
       "      <td>NaN</td>\n",
       "      <td>NaN</td>\n",
       "      <td>NaN</td>\n",
       "      <td>NaN</td>\n",
       "      <td>...</td>\n",
       "      <td>NaN</td>\n",
       "      <td>NaN</td>\n",
       "      <td>NaN</td>\n",
       "      <td>NaN</td>\n",
       "      <td>NaN</td>\n",
       "      <td>NaN</td>\n",
       "      <td>NaN</td>\n",
       "      <td>NaN</td>\n",
       "      <td>NaN</td>\n",
       "      <td>NaN</td>\n",
       "    </tr>\n",
       "    <tr>\n",
       "      <td>3</td>\n",
       "      <td>AVIY68KEPQ5ZD</td>\n",
       "      <td>NaN</td>\n",
       "      <td>NaN</td>\n",
       "      <td>NaN</td>\n",
       "      <td>5.0</td>\n",
       "      <td>NaN</td>\n",
       "      <td>NaN</td>\n",
       "      <td>NaN</td>\n",
       "      <td>NaN</td>\n",
       "      <td>NaN</td>\n",
       "      <td>...</td>\n",
       "      <td>NaN</td>\n",
       "      <td>NaN</td>\n",
       "      <td>NaN</td>\n",
       "      <td>NaN</td>\n",
       "      <td>NaN</td>\n",
       "      <td>NaN</td>\n",
       "      <td>NaN</td>\n",
       "      <td>NaN</td>\n",
       "      <td>NaN</td>\n",
       "      <td>NaN</td>\n",
       "    </tr>\n",
       "    <tr>\n",
       "      <td>4</td>\n",
       "      <td>A1CV1WROP5KTTW</td>\n",
       "      <td>NaN</td>\n",
       "      <td>NaN</td>\n",
       "      <td>NaN</td>\n",
       "      <td>NaN</td>\n",
       "      <td>5.0</td>\n",
       "      <td>NaN</td>\n",
       "      <td>NaN</td>\n",
       "      <td>NaN</td>\n",
       "      <td>NaN</td>\n",
       "      <td>...</td>\n",
       "      <td>NaN</td>\n",
       "      <td>NaN</td>\n",
       "      <td>NaN</td>\n",
       "      <td>NaN</td>\n",
       "      <td>NaN</td>\n",
       "      <td>NaN</td>\n",
       "      <td>NaN</td>\n",
       "      <td>NaN</td>\n",
       "      <td>NaN</td>\n",
       "      <td>NaN</td>\n",
       "    </tr>\n",
       "  </tbody>\n",
       "</table>\n",
       "<p>5 rows × 207 columns</p>\n",
       "</div>"
      ],
      "text/plain": [
       "          user_id  Movie1  Movie2  Movie3  Movie4  Movie5  Movie6  Movie7  \\\n",
       "0  A3R5OBKS7OM2IR     5.0     5.0     NaN     NaN     NaN     NaN     NaN   \n",
       "1   AH3QC2PC1VTGP     NaN     NaN     2.0     NaN     NaN     NaN     NaN   \n",
       "2  A3LKP6WPMP9UKX     NaN     NaN     NaN     5.0     NaN     NaN     NaN   \n",
       "3   AVIY68KEPQ5ZD     NaN     NaN     NaN     5.0     NaN     NaN     NaN   \n",
       "4  A1CV1WROP5KTTW     NaN     NaN     NaN     NaN     5.0     NaN     NaN   \n",
       "\n",
       "   Movie8  Movie9  ...  Movie197  Movie198  Movie199  Movie200  Movie201  \\\n",
       "0     NaN     NaN  ...       NaN       NaN       NaN       NaN       NaN   \n",
       "1     NaN     NaN  ...       NaN       NaN       NaN       NaN       NaN   \n",
       "2     NaN     NaN  ...       NaN       NaN       NaN       NaN       NaN   \n",
       "3     NaN     NaN  ...       NaN       NaN       NaN       NaN       NaN   \n",
       "4     NaN     NaN  ...       NaN       NaN       NaN       NaN       NaN   \n",
       "\n",
       "   Movie202  Movie203  Movie204  Movie205  Movie206  \n",
       "0       NaN       NaN       NaN       NaN       NaN  \n",
       "1       NaN       NaN       NaN       NaN       NaN  \n",
       "2       NaN       NaN       NaN       NaN       NaN  \n",
       "3       NaN       NaN       NaN       NaN       NaN  \n",
       "4       NaN       NaN       NaN       NaN       NaN  \n",
       "\n",
       "[5 rows x 207 columns]"
      ]
     },
     "execution_count": 22,
     "metadata": {},
     "output_type": "execute_result"
    }
   ],
   "source": [
    "amazonData.head()"
   ]
  },
  {
   "cell_type": "code",
   "execution_count": 24,
   "metadata": {},
   "outputs": [],
   "source": [
    "melt_movies = amazonData.melt(id_vars = amazonData.columns[0],        \\\n",
    "                              value_vars = amazonData.columns[1:],     \\\n",
    "                              var_name = \"movie_name\",                  \\\n",
    "                              value_name = \"rating\")"
   ]
  },
  {
   "cell_type": "code",
   "execution_count": 25,
   "metadata": {},
   "outputs": [
    {
     "data": {
      "text/html": [
       "<div>\n",
       "<style scoped>\n",
       "    .dataframe tbody tr th:only-of-type {\n",
       "        vertical-align: middle;\n",
       "    }\n",
       "\n",
       "    .dataframe tbody tr th {\n",
       "        vertical-align: top;\n",
       "    }\n",
       "\n",
       "    .dataframe thead th {\n",
       "        text-align: right;\n",
       "    }\n",
       "</style>\n",
       "<table border=\"1\" class=\"dataframe\">\n",
       "  <thead>\n",
       "    <tr style=\"text-align: right;\">\n",
       "      <th></th>\n",
       "      <th>user_id</th>\n",
       "      <th>movie_name</th>\n",
       "      <th>rating</th>\n",
       "    </tr>\n",
       "  </thead>\n",
       "  <tbody>\n",
       "    <tr>\n",
       "      <td>0</td>\n",
       "      <td>A3R5OBKS7OM2IR</td>\n",
       "      <td>Movie1</td>\n",
       "      <td>5.0</td>\n",
       "    </tr>\n",
       "    <tr>\n",
       "      <td>1</td>\n",
       "      <td>AH3QC2PC1VTGP</td>\n",
       "      <td>Movie1</td>\n",
       "      <td>NaN</td>\n",
       "    </tr>\n",
       "    <tr>\n",
       "      <td>2</td>\n",
       "      <td>A3LKP6WPMP9UKX</td>\n",
       "      <td>Movie1</td>\n",
       "      <td>NaN</td>\n",
       "    </tr>\n",
       "    <tr>\n",
       "      <td>3</td>\n",
       "      <td>AVIY68KEPQ5ZD</td>\n",
       "      <td>Movie1</td>\n",
       "      <td>NaN</td>\n",
       "    </tr>\n",
       "    <tr>\n",
       "      <td>4</td>\n",
       "      <td>A1CV1WROP5KTTW</td>\n",
       "      <td>Movie1</td>\n",
       "      <td>NaN</td>\n",
       "    </tr>\n",
       "    <tr>\n",
       "      <td>...</td>\n",
       "      <td>...</td>\n",
       "      <td>...</td>\n",
       "      <td>...</td>\n",
       "    </tr>\n",
       "    <tr>\n",
       "      <td>998683</td>\n",
       "      <td>A1IMQ9WMFYKWH5</td>\n",
       "      <td>Movie206</td>\n",
       "      <td>5.0</td>\n",
       "    </tr>\n",
       "    <tr>\n",
       "      <td>998684</td>\n",
       "      <td>A1KLIKPUF5E88I</td>\n",
       "      <td>Movie206</td>\n",
       "      <td>5.0</td>\n",
       "    </tr>\n",
       "    <tr>\n",
       "      <td>998685</td>\n",
       "      <td>A5HG6WFZLO10D</td>\n",
       "      <td>Movie206</td>\n",
       "      <td>5.0</td>\n",
       "    </tr>\n",
       "    <tr>\n",
       "      <td>998686</td>\n",
       "      <td>A3UU690TWXCG1X</td>\n",
       "      <td>Movie206</td>\n",
       "      <td>5.0</td>\n",
       "    </tr>\n",
       "    <tr>\n",
       "      <td>998687</td>\n",
       "      <td>AI4J762YI6S06</td>\n",
       "      <td>Movie206</td>\n",
       "      <td>5.0</td>\n",
       "    </tr>\n",
       "  </tbody>\n",
       "</table>\n",
       "<p>998688 rows × 3 columns</p>\n",
       "</div>"
      ],
      "text/plain": [
       "               user_id movie_name  rating\n",
       "0       A3R5OBKS7OM2IR     Movie1     5.0\n",
       "1        AH3QC2PC1VTGP     Movie1     NaN\n",
       "2       A3LKP6WPMP9UKX     Movie1     NaN\n",
       "3        AVIY68KEPQ5ZD     Movie1     NaN\n",
       "4       A1CV1WROP5KTTW     Movie1     NaN\n",
       "...                ...        ...     ...\n",
       "998683  A1IMQ9WMFYKWH5   Movie206     5.0\n",
       "998684  A1KLIKPUF5E88I   Movie206     5.0\n",
       "998685   A5HG6WFZLO10D   Movie206     5.0\n",
       "998686  A3UU690TWXCG1X   Movie206     5.0\n",
       "998687   AI4J762YI6S06   Movie206     5.0\n",
       "\n",
       "[998688 rows x 3 columns]"
      ]
     },
     "execution_count": 25,
     "metadata": {},
     "output_type": "execute_result"
    }
   ],
   "source": [
    "melt_movies"
   ]
  },
  {
   "cell_type": "code",
   "execution_count": 38,
   "metadata": {},
   "outputs": [],
   "source": [
    "reader = Reader(rating_scale=(-1,10))\n",
    "\n",
    "data = Dataset.load_from_df(melt_movies.fillna(0), reader=reader)"
   ]
  },
  {
   "cell_type": "code",
   "execution_count": 39,
   "metadata": {},
   "outputs": [],
   "source": [
    "trainSet,testSet = train_test_split(data, test_size=0.25)"
   ]
  },
  {
   "cell_type": "code",
   "execution_count": 40,
   "metadata": {},
   "outputs": [
    {
     "data": {
      "text/plain": [
       "<surprise.trainset.Trainset at 0x2066e958808>"
      ]
     },
     "execution_count": 40,
     "metadata": {},
     "output_type": "execute_result"
    }
   ],
   "source": [
    "trainSet"
   ]
  },
  {
   "cell_type": "code",
   "execution_count": 41,
   "metadata": {},
   "outputs": [],
   "source": [
    "from surprise import SVD"
   ]
  },
  {
   "cell_type": "code",
   "execution_count": 42,
   "metadata": {},
   "outputs": [],
   "source": [
    "algo = SVD()"
   ]
  },
  {
   "cell_type": "code",
   "execution_count": 43,
   "metadata": {},
   "outputs": [
    {
     "data": {
      "text/plain": [
       "<surprise.prediction_algorithms.matrix_factorization.SVD at 0x2060574b4c8>"
      ]
     },
     "execution_count": 43,
     "metadata": {},
     "output_type": "execute_result"
    }
   ],
   "source": [
    "algo.fit(trainSet)"
   ]
  },
  {
   "cell_type": "code",
   "execution_count": 44,
   "metadata": {},
   "outputs": [],
   "source": [
    "predict = algo.test(testSet)"
   ]
  },
  {
   "cell_type": "code",
   "execution_count": 45,
   "metadata": {},
   "outputs": [
    {
     "name": "stdout",
     "output_type": "stream",
     "text": [
      "RMSE: 0.2793\n"
     ]
    },
    {
     "data": {
      "text/plain": [
       "0.27926397100239103"
      ]
     },
     "execution_count": 45,
     "metadata": {},
     "output_type": "execute_result"
    }
   ],
   "source": [
    "accuracy.rmse(predict)"
   ]
  },
  {
   "cell_type": "code",
   "execution_count": 48,
   "metadata": {},
   "outputs": [
    {
     "name": "stdout",
     "output_type": "stream",
     "text": [
      "user: A3R5OBKS7OM2IR item: Movie1     r_ui = 5.00   est = 0.07   {'was_impossible': False}\n"
     ]
    },
    {
     "data": {
      "text/plain": [
       "Prediction(uid='A3R5OBKS7OM2IR', iid='Movie1', r_ui=5.0, est=0.07207917314450574, details={'was_impossible': False})"
      ]
     },
     "execution_count": 48,
     "metadata": {},
     "output_type": "execute_result"
    }
   ],
   "source": [
    "user_id = 'A3R5OBKS7OM2IR'\n",
    "movie_id = 'Movie1'\n",
    "r_ui = 5.0\n",
    "\n",
    "algo.predict(user_id,movie_id,r_ui, verbose=True)"
   ]
  },
  {
   "cell_type": "code",
   "execution_count": 49,
   "metadata": {},
   "outputs": [],
   "source": [
    "from surprise.model_selection import cross_validate"
   ]
  },
  {
   "cell_type": "code",
   "execution_count": 51,
   "metadata": {},
   "outputs": [
    {
     "name": "stdout",
     "output_type": "stream",
     "text": [
      "Evaluating RMSE, MAE of algorithm SVD on 3 split(s).\n",
      "\n",
      "                  Fold 1  Fold 2  Fold 3  Mean    Std     \n",
      "RMSE (testset)    0.2849  0.2794  0.2809  0.2817  0.0023  \n",
      "MAE (testset)     0.0429  0.0426  0.0424  0.0426  0.0002  \n",
      "Fit time          30.64   30.76   30.60   30.66   0.07    \n",
      "Test time         2.84    2.11    2.10    2.35    0.35    \n"
     ]
    },
    {
     "data": {
      "text/plain": [
       "{'test_rmse': array([0.28492352, 0.27943598, 0.28085115]),\n",
       " 'test_mae': array([0.04285246, 0.04259029, 0.04243195]),\n",
       " 'fit_time': (30.636741399765015, 30.757975101470947, 30.599949598312378),\n",
       " 'test_time': (2.840334892272949, 2.1091370582580566, 2.1000728607177734)}"
      ]
     },
     "execution_count": 51,
     "metadata": {},
     "output_type": "execute_result"
    }
   ],
   "source": [
    "cross_validate(algo, data, measures=['RMSE','MAE'],cv=3,verbose=True)"
   ]
  },
  {
   "cell_type": "code",
   "execution_count": 52,
   "metadata": {},
   "outputs": [],
   "source": [
    "def repeat(algo_type, frame, min_, max_):\n",
    "    reader = Reader(rating_scale=(min_,max_))\n",
    "    \n",
    "    data = Dataset.load_from_df(frame,reader=reader)\n",
    "    \n",
    "    algo = algo_type\n",
    "    \n",
    "    print(cross_validate(algo,data, measures=['RMSE','MAE'], cv=3, verbose=True))\n",
    "    \n",
    "    print(\"-\"*10)\n",
    "    \n",
    "    \n",
    "    user_id = 'A3R5OBKS7OM2IR'\n",
    "    movie_id = 'Movie1'\n",
    "    r_ui = 5.0\n",
    "    print(algo.predict(user_id,movie_id,r_ui, verbose=True))\n",
    "    \n",
    "    print(\"-\"*10)\n",
    "    \n",
    "    print()"
   ]
  },
  {
   "cell_type": "code",
   "execution_count": 53,
   "metadata": {},
   "outputs": [],
   "source": [
    "df = movies.iloc[:1212,:50]\n",
    "\n",
    "melt_df = df.melt(id_vars=df.columns[0],value_vars=df.columns[1:],var_name=\"movie_name\",value_name=\"rating\")"
   ]
  },
  {
   "cell_type": "code",
   "execution_count": 54,
   "metadata": {},
   "outputs": [
    {
     "name": "stdout",
     "output_type": "stream",
     "text": [
      "Evaluating RMSE, MAE of algorithm SVD on 3 split(s).\n",
      "\n",
      "                  Fold 1  Fold 2  Fold 3  Mean    Std     \n",
      "RMSE (testset)    0.4323  0.4569  0.4543  0.4478  0.0111  \n",
      "MAE (testset)     0.0873  0.0923  0.0867  0.0887  0.0025  \n",
      "Fit time          1.65    1.61    1.61    1.62    0.02    \n",
      "Test time         0.09    0.09    0.09    0.09    0.00    \n",
      "{'test_rmse': array([0.43228683, 0.45691172, 0.45433547]), 'test_mae': array([0.08726127, 0.0922586 , 0.08671266]), 'fit_time': (1.650956392288208, 1.6062064170837402, 1.6128687858581543), 'test_time': (0.08677554130554199, 0.09122443199157715, 0.08704257011413574)}\n",
      "----------\n",
      "user: A3R5OBKS7OM2IR item: Movie1     r_ui = 5.00   est = 0.05   {'was_impossible': False}\n",
      "user: A3R5OBKS7OM2IR item: Movie1     r_ui = 5.00   est = 0.05   {'was_impossible': False}\n",
      "----------\n",
      "\n",
      "Evaluating RMSE, MAE of algorithm SVD on 3 split(s).\n",
      "\n",
      "                  Fold 1  Fold 2  Fold 3  Mean    Std     \n",
      "RMSE (testset)    0.0923  0.0885  0.0843  0.0884  0.0033  \n",
      "MAE (testset)     0.0125  0.0125  0.0166  0.0138  0.0019  \n",
      "Fit time          1.61    1.61    1.61    1.61    0.00    \n",
      "Test time         0.09    0.09    0.09    0.09    0.00    \n",
      "{'test_rmse': array([0.09225542, 0.08854853, 0.0842682 ]), 'test_mae': array([0.01246206, 0.01248036, 0.01655403]), 'fit_time': (1.6133983135223389, 1.612210750579834, 1.6139380931854248), 'test_time': (0.08680224418640137, 0.08530116081237793, 0.0869450569152832)}\n",
      "----------\n",
      "user: A3R5OBKS7OM2IR item: Movie1     r_ui = 5.00   est = 4.61   {'was_impossible': False}\n",
      "user: A3R5OBKS7OM2IR item: Movie1     r_ui = 5.00   est = 4.61   {'was_impossible': False}\n",
      "----------\n",
      "\n",
      "Evaluating RMSE, MAE of algorithm SVD on 3 split(s).\n",
      "\n",
      "                  Fold 1  Fold 2  Fold 3  Mean    Std     \n",
      "RMSE (testset)    0.1009  0.0966  0.0890  0.0955  0.0049  \n",
      "MAE (testset)     0.0103  0.0105  0.0091  0.0099  0.0006  \n",
      "Fit time          1.63    1.64    1.65    1.64    0.01    \n",
      "Test time         0.09    0.09    0.09    0.09    0.00    \n",
      "{'test_rmse': array([0.10089453, 0.09657056, 0.08896863]), 'test_mae': array([0.01028648, 0.01050879, 0.00905074]), 'fit_time': (1.6257624626159668, 1.6387407779693604, 1.6536643505096436), 'test_time': (0.08695244789123535, 0.08955264091491699, 0.08796119689941406)}\n",
      "----------\n",
      "user: A3R5OBKS7OM2IR item: Movie1     r_ui = 5.00   est = 5.00   {'was_impossible': False}\n",
      "user: A3R5OBKS7OM2IR item: Movie1     r_ui = 5.00   est = 5.00   {'was_impossible': False}\n",
      "----------\n",
      "\n"
     ]
    }
   ],
   "source": [
    "repeat(SVD(),melt_df.fillna(0),-1,10)\n",
    "\n",
    "repeat(SVD(),melt_df.fillna(melt_df.mean()),-1,10)\n",
    "\n",
    "repeat(SVD(),melt_df.fillna(melt_df.median()),-1,10)"
   ]
  },
  {
   "cell_type": "code",
   "execution_count": 55,
   "metadata": {},
   "outputs": [],
   "source": [
    "from surprise.model_selection import GridSearchCV"
   ]
  },
  {
   "cell_type": "code",
   "execution_count": 56,
   "metadata": {},
   "outputs": [],
   "source": [
    "param_grid = {'n_epochs':[20,30],\n",
    "             'lr_all':[0.005,0.01],\n",
    "             'n_factors':[50,100]}"
   ]
  },
  {
   "cell_type": "code",
   "execution_count": 59,
   "metadata": {},
   "outputs": [],
   "source": [
    "gs = GridSearchCV(SVD,param_grid, measures=['rmse','mae'], cv=3)\n",
    "\n",
    "gs.fit(data)"
   ]
  },
  {
   "cell_type": "code",
   "execution_count": 60,
   "metadata": {},
   "outputs": [
    {
     "data": {
      "text/plain": [
       "{'rmse': 0.2772684734279281, 'mae': 0.03984954709365934}"
      ]
     },
     "execution_count": 60,
     "metadata": {},
     "output_type": "execute_result"
    }
   ],
   "source": [
    "gs.best_score"
   ]
  },
  {
   "cell_type": "code",
   "execution_count": null,
   "metadata": {},
   "outputs": [],
   "source": []
  }
 ],
 "metadata": {
  "kernelspec": {
   "display_name": "Python 3",
   "language": "python",
   "name": "python3"
  },
  "language_info": {
   "codemirror_mode": {
    "name": "ipython",
    "version": 3
   },
   "file_extension": ".py",
   "mimetype": "text/x-python",
   "name": "python",
   "nbconvert_exporter": "python",
   "pygments_lexer": "ipython3",
   "version": "3.7.4"
  }
 },
 "nbformat": 4,
 "nbformat_minor": 2
}
