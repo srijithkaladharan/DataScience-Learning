{
 "cells": [
  {
   "cell_type": "code",
   "execution_count": 6,
   "metadata": {},
   "outputs": [
    {
     "name": "stdout",
     "output_type": "stream",
     "text": [
      "0     1\n",
      "1     2\n",
      "2     3\n",
      "3     1\n",
      "4     2\n",
      "5     1\n",
      "6     2\n",
      "7     1\n",
      "8     2\n",
      "9     1\n",
      "10    3\n",
      "11    4\n",
      "12    5\n",
      "13    6\n",
      "14    7\n",
      "dtype: int64\n"
     ]
    }
   ],
   "source": [
    "import pandas as pd\n",
    "d = [1,2,3,1,2,1,2,1,2,1,3,4,5,6,7]\n",
    "df = pd.Series(d)\n",
    "print(df)"
   ]
  },
  {
   "cell_type": "code",
   "execution_count": 16,
   "metadata": {},
   "outputs": [
    {
     "data": {
      "text/plain": [
       "array([[<matplotlib.axes._subplots.AxesSubplot object at 0x000001EEB0A228D0>,\n",
       "        <matplotlib.axes._subplots.AxesSubplot object at 0x000001EEB0DE6048>],\n",
       "       [<matplotlib.axes._subplots.AxesSubplot object at 0x000001EEB0E0B588>,\n",
       "        <matplotlib.axes._subplots.AxesSubplot object at 0x000001EEB0E33B00>]],\n",
       "      dtype=object)"
      ]
     },
     "execution_count": 16,
     "metadata": {},
     "output_type": "execute_result"
    },
    {
     "data": {
      "image/png": "[encoded data removed]",
      "text/plain": [
       "<Figure size 432x288 with 4 Axes>"
      ]
     },
     "metadata": {
      "needs_background": "light"
     },
     "output_type": "display_data"
    }
   ],
   "source": [
    "df.hist()"
   ]
  },
  {
   "cell_type": "code",
   "execution_count": 17,
   "metadata": {},
   "outputs": [],
   "source": [
    "import numpy as np\n"
   ]
  },
  {
   "cell_type": "code",
   "execution_count": 18,
   "metadata": {},
   "outputs": [],
   "source": [
    "g = np.random.rand(1000,4)"
   ]
  },
  {
   "cell_type": "code",
   "execution_count": 19,
   "metadata": {},
   "outputs": [
    {
     "name": "stdout",
     "output_type": "stream",
     "text": [
      "[[0.93882078 0.39121889 0.05032676 0.46106881]\n",
      " [0.58885466 0.0173316  0.35171668 0.12563855]\n",
      " [0.53868342 0.89971902 0.5682247  0.09953101]\n",
      " ...\n",
      " [0.56770551 0.2005863  0.37609038 0.79380474]\n",
      " [0.45915043 0.0264296  0.92894281 0.72920479]\n",
      " [0.07192415 0.64873092 0.45713749 0.40235484]]\n"
     ]
    }
   ],
   "source": [
    "print(g)"
   ]
  },
  {
   "cell_type": "code",
   "execution_count": 20,
   "metadata": {},
   "outputs": [],
   "source": [
    "df = pd.DataFrame(g)"
   ]
  },
  {
   "cell_type": "code",
   "execution_count": 22,
   "metadata": {},
   "outputs": [
    {
     "data": {
      "text/plain": [
       "(1000, 4)"
      ]
     },
     "execution_count": 22,
     "metadata": {},
     "output_type": "execute_result"
    }
   ],
   "source": [
    "df.shape"
   ]
  },
  {
   "cell_type": "code",
   "execution_count": 23,
   "metadata": {},
   "outputs": [
    {
     "data": {
      "text/html": [
       "<div>\n",
       "<style scoped>\n",
       "    .dataframe tbody tr th:only-of-type {\n",
       "        vertical-align: middle;\n",
       "    }\n",
       "\n",
       "    .dataframe tbody tr th {\n",
       "        vertical-align: top;\n",
       "    }\n",
       "\n",
       "    .dataframe thead th {\n",
       "        text-align: right;\n",
       "    }\n",
       "</style>\n",
       "<table border=\"1\" class=\"dataframe\">\n",
       "  <thead>\n",
       "    <tr style=\"text-align: right;\">\n",
       "      <th></th>\n",
       "      <th>0</th>\n",
       "      <th>1</th>\n",
       "      <th>2</th>\n",
       "      <th>3</th>\n",
       "    </tr>\n",
       "  </thead>\n",
       "  <tbody>\n",
       "    <tr>\n",
       "      <th>0</th>\n",
       "      <td>0.938821</td>\n",
       "      <td>0.391219</td>\n",
       "      <td>0.050327</td>\n",
       "      <td>0.461069</td>\n",
       "    </tr>\n",
       "    <tr>\n",
       "      <th>1</th>\n",
       "      <td>0.588855</td>\n",
       "      <td>0.017332</td>\n",
       "      <td>0.351717</td>\n",
       "      <td>0.125639</td>\n",
       "    </tr>\n",
       "    <tr>\n",
       "      <th>2</th>\n",
       "      <td>0.538683</td>\n",
       "      <td>0.899719</td>\n",
       "      <td>0.568225</td>\n",
       "      <td>0.099531</td>\n",
       "    </tr>\n",
       "    <tr>\n",
       "      <th>3</th>\n",
       "      <td>0.215407</td>\n",
       "      <td>0.600467</td>\n",
       "      <td>0.586784</td>\n",
       "      <td>0.350746</td>\n",
       "    </tr>\n",
       "    <tr>\n",
       "      <th>4</th>\n",
       "      <td>0.118003</td>\n",
       "      <td>0.943218</td>\n",
       "      <td>0.469648</td>\n",
       "      <td>0.805086</td>\n",
       "    </tr>\n",
       "  </tbody>\n",
       "</table>\n",
       "</div>"
      ],
      "text/plain": [
       "          0         1         2         3\n",
       "0  0.938821  0.391219  0.050327  0.461069\n",
       "1  0.588855  0.017332  0.351717  0.125639\n",
       "2  0.538683  0.899719  0.568225  0.099531\n",
       "3  0.215407  0.600467  0.586784  0.350746\n",
       "4  0.118003  0.943218  0.469648  0.805086"
      ]
     },
     "execution_count": 23,
     "metadata": {},
     "output_type": "execute_result"
    }
   ],
   "source": [
    "df.head()"
   ]
  },
  {
   "cell_type": "code",
   "execution_count": 26,
   "metadata": {},
   "outputs": [],
   "source": [
    "e = df.iloc[:,1]"
   ]
  },
  {
   "cell_type": "code",
   "execution_count": 27,
   "metadata": {},
   "outputs": [
    {
     "data": {
      "text/plain": [
       "<matplotlib.axes._subplots.AxesSubplot at 0x1eeb0fcc358>"
      ]
     },
     "execution_count": 27,
     "metadata": {},
     "output_type": "execute_result"
    },
    {
     "data": {
      "image/png": "[encoded data removed]",
      "text/plain": [
       "<Figure size 432x288 with 1 Axes>"
      ]
     },
     "metadata": {
      "needs_background": "light"
     },
     "output_type": "display_data"
    }
   ],
   "source": [
    "e.hist()"
   ]
  },
  {
   "cell_type": "code",
   "execution_count": 30,
   "metadata": {},
   "outputs": [
    {
     "data": {
      "text/plain": [
       "-0.03714123325090027"
      ]
     },
     "execution_count": 30,
     "metadata": {},
     "output_type": "execute_result"
    }
   ],
   "source": [
    "from scipy.stats import skew\n",
    "from scipy.stats import kurtosis\n",
    "skew(e)\n"
   ]
  },
  {
   "cell_type": "code",
   "execution_count": 32,
   "metadata": {},
   "outputs": [
    {
     "data": {
      "text/plain": [
       "-1.206363351498823"
      ]
     },
     "execution_count": 32,
     "metadata": {},
     "output_type": "execute_result"
    }
   ],
   "source": [
    "kurtosis(e)"
   ]
  },
  {
   "cell_type": "code",
   "execution_count": 34,
   "metadata": {},
   "outputs": [
    {
     "data": {
      "text/html": [
       "<div>\n",
       "<style scoped>\n",
       "    .dataframe tbody tr th:only-of-type {\n",
       "        vertical-align: middle;\n",
       "    }\n",
       "\n",
       "    .dataframe tbody tr th {\n",
       "        vertical-align: top;\n",
       "    }\n",
       "\n",
       "    .dataframe thead th {\n",
       "        text-align: right;\n",
       "    }\n",
       "</style>\n",
       "<table border=\"1\" class=\"dataframe\">\n",
       "  <thead>\n",
       "    <tr style=\"text-align: right;\">\n",
       "      <th></th>\n",
       "      <th>0</th>\n",
       "      <th>1</th>\n",
       "      <th>2</th>\n",
       "      <th>3</th>\n",
       "    </tr>\n",
       "  </thead>\n",
       "  <tbody>\n",
       "    <tr>\n",
       "      <th>0</th>\n",
       "      <td>2.031634</td>\n",
       "      <td>-0.681873</td>\n",
       "      <td>-0.055951</td>\n",
       "      <td>-0.818654</td>\n",
       "    </tr>\n",
       "    <tr>\n",
       "      <th>1</th>\n",
       "      <td>-2.755877</td>\n",
       "      <td>-1.493643</td>\n",
       "      <td>1.117108</td>\n",
       "      <td>0.225355</td>\n",
       "    </tr>\n",
       "    <tr>\n",
       "      <th>2</th>\n",
       "      <td>0.003883</td>\n",
       "      <td>-1.392918</td>\n",
       "      <td>0.620089</td>\n",
       "      <td>-0.306847</td>\n",
       "    </tr>\n",
       "    <tr>\n",
       "      <th>3</th>\n",
       "      <td>0.321402</td>\n",
       "      <td>0.520977</td>\n",
       "      <td>1.131957</td>\n",
       "      <td>1.416861</td>\n",
       "    </tr>\n",
       "    <tr>\n",
       "      <th>4</th>\n",
       "      <td>-0.665084</td>\n",
       "      <td>-0.614936</td>\n",
       "      <td>0.409414</td>\n",
       "      <td>-0.533037</td>\n",
       "    </tr>\n",
       "    <tr>\n",
       "      <th>5</th>\n",
       "      <td>-1.058161</td>\n",
       "      <td>0.911946</td>\n",
       "      <td>-0.546907</td>\n",
       "      <td>1.445128</td>\n",
       "    </tr>\n",
       "    <tr>\n",
       "      <th>6</th>\n",
       "      <td>-0.697243</td>\n",
       "      <td>1.172319</td>\n",
       "      <td>-1.349796</td>\n",
       "      <td>-0.272158</td>\n",
       "    </tr>\n",
       "    <tr>\n",
       "      <th>7</th>\n",
       "      <td>1.517882</td>\n",
       "      <td>0.372258</td>\n",
       "      <td>0.592478</td>\n",
       "      <td>1.673593</td>\n",
       "    </tr>\n",
       "    <tr>\n",
       "      <th>8</th>\n",
       "      <td>0.869842</td>\n",
       "      <td>0.409569</td>\n",
       "      <td>-0.410105</td>\n",
       "      <td>-1.347029</td>\n",
       "    </tr>\n",
       "    <tr>\n",
       "      <th>9</th>\n",
       "      <td>-1.746111</td>\n",
       "      <td>-0.952306</td>\n",
       "      <td>-0.324193</td>\n",
       "      <td>0.248252</td>\n",
       "    </tr>\n",
       "    <tr>\n",
       "      <th>10</th>\n",
       "      <td>0.808836</td>\n",
       "      <td>1.593226</td>\n",
       "      <td>0.733953</td>\n",
       "      <td>0.826447</td>\n",
       "    </tr>\n",
       "    <tr>\n",
       "      <th>11</th>\n",
       "      <td>-0.311874</td>\n",
       "      <td>-1.237431</td>\n",
       "      <td>-0.887581</td>\n",
       "      <td>1.476824</td>\n",
       "    </tr>\n",
       "    <tr>\n",
       "      <th>12</th>\n",
       "      <td>-0.059633</td>\n",
       "      <td>1.753843</td>\n",
       "      <td>0.455164</td>\n",
       "      <td>-0.219971</td>\n",
       "    </tr>\n",
       "    <tr>\n",
       "      <th>13</th>\n",
       "      <td>0.836027</td>\n",
       "      <td>0.817352</td>\n",
       "      <td>0.191045</td>\n",
       "      <td>0.253012</td>\n",
       "    </tr>\n",
       "    <tr>\n",
       "      <th>14</th>\n",
       "      <td>0.554962</td>\n",
       "      <td>1.084497</td>\n",
       "      <td>0.082907</td>\n",
       "      <td>-1.154759</td>\n",
       "    </tr>\n",
       "    <tr>\n",
       "      <th>15</th>\n",
       "      <td>-1.026376</td>\n",
       "      <td>-1.403126</td>\n",
       "      <td>-1.187005</td>\n",
       "      <td>0.090386</td>\n",
       "    </tr>\n",
       "    <tr>\n",
       "      <th>16</th>\n",
       "      <td>-0.683750</td>\n",
       "      <td>0.513982</td>\n",
       "      <td>-1.459470</td>\n",
       "      <td>-0.430196</td>\n",
       "    </tr>\n",
       "    <tr>\n",
       "      <th>17</th>\n",
       "      <td>-0.320376</td>\n",
       "      <td>-0.965667</td>\n",
       "      <td>0.979289</td>\n",
       "      <td>-0.875558</td>\n",
       "    </tr>\n",
       "    <tr>\n",
       "      <th>18</th>\n",
       "      <td>0.234990</td>\n",
       "      <td>-0.839970</td>\n",
       "      <td>-0.539503</td>\n",
       "      <td>-0.787952</td>\n",
       "    </tr>\n",
       "    <tr>\n",
       "      <th>19</th>\n",
       "      <td>1.394543</td>\n",
       "      <td>-0.263354</td>\n",
       "      <td>3.126465</td>\n",
       "      <td>-0.665347</td>\n",
       "    </tr>\n",
       "    <tr>\n",
       "      <th>20</th>\n",
       "      <td>-0.674961</td>\n",
       "      <td>1.160370</td>\n",
       "      <td>-1.641768</td>\n",
       "      <td>-0.036247</td>\n",
       "    </tr>\n",
       "    <tr>\n",
       "      <th>21</th>\n",
       "      <td>-0.887810</td>\n",
       "      <td>-0.206833</td>\n",
       "      <td>-0.302237</td>\n",
       "      <td>-0.998500</td>\n",
       "    </tr>\n",
       "    <tr>\n",
       "      <th>22</th>\n",
       "      <td>0.145307</td>\n",
       "      <td>0.864693</td>\n",
       "      <td>-0.110062</td>\n",
       "      <td>0.026412</td>\n",
       "    </tr>\n",
       "    <tr>\n",
       "      <th>23</th>\n",
       "      <td>-0.042350</td>\n",
       "      <td>-0.589216</td>\n",
       "      <td>0.956048</td>\n",
       "      <td>1.966529</td>\n",
       "    </tr>\n",
       "    <tr>\n",
       "      <th>24</th>\n",
       "      <td>1.139885</td>\n",
       "      <td>-1.427673</td>\n",
       "      <td>0.136018</td>\n",
       "      <td>0.639139</td>\n",
       "    </tr>\n",
       "    <tr>\n",
       "      <th>25</th>\n",
       "      <td>-0.320518</td>\n",
       "      <td>-1.430511</td>\n",
       "      <td>1.103966</td>\n",
       "      <td>-0.373688</td>\n",
       "    </tr>\n",
       "    <tr>\n",
       "      <th>26</th>\n",
       "      <td>-0.070178</td>\n",
       "      <td>-0.123258</td>\n",
       "      <td>-0.487167</td>\n",
       "      <td>-1.930805</td>\n",
       "    </tr>\n",
       "    <tr>\n",
       "      <th>27</th>\n",
       "      <td>-0.809421</td>\n",
       "      <td>0.204273</td>\n",
       "      <td>-0.239856</td>\n",
       "      <td>0.597481</td>\n",
       "    </tr>\n",
       "    <tr>\n",
       "      <th>28</th>\n",
       "      <td>0.381966</td>\n",
       "      <td>0.660848</td>\n",
       "      <td>0.407908</td>\n",
       "      <td>-2.000880</td>\n",
       "    </tr>\n",
       "    <tr>\n",
       "      <th>29</th>\n",
       "      <td>0.680264</td>\n",
       "      <td>-0.340017</td>\n",
       "      <td>-0.001209</td>\n",
       "      <td>0.386289</td>\n",
       "    </tr>\n",
       "    <tr>\n",
       "      <th>...</th>\n",
       "      <td>...</td>\n",
       "      <td>...</td>\n",
       "      <td>...</td>\n",
       "      <td>...</td>\n",
       "    </tr>\n",
       "    <tr>\n",
       "      <th>970</th>\n",
       "      <td>-0.186929</td>\n",
       "      <td>-0.761657</td>\n",
       "      <td>-0.402178</td>\n",
       "      <td>-0.565072</td>\n",
       "    </tr>\n",
       "    <tr>\n",
       "      <th>971</th>\n",
       "      <td>1.025492</td>\n",
       "      <td>0.587699</td>\n",
       "      <td>-0.693415</td>\n",
       "      <td>0.368027</td>\n",
       "    </tr>\n",
       "    <tr>\n",
       "      <th>972</th>\n",
       "      <td>-0.543028</td>\n",
       "      <td>-1.274374</td>\n",
       "      <td>-0.377775</td>\n",
       "      <td>0.335792</td>\n",
       "    </tr>\n",
       "    <tr>\n",
       "      <th>973</th>\n",
       "      <td>-0.041951</td>\n",
       "      <td>-0.176468</td>\n",
       "      <td>-0.005816</td>\n",
       "      <td>-1.495365</td>\n",
       "    </tr>\n",
       "    <tr>\n",
       "      <th>974</th>\n",
       "      <td>0.022274</td>\n",
       "      <td>-1.002110</td>\n",
       "      <td>0.110785</td>\n",
       "      <td>0.286650</td>\n",
       "    </tr>\n",
       "    <tr>\n",
       "      <th>975</th>\n",
       "      <td>0.869105</td>\n",
       "      <td>1.470434</td>\n",
       "      <td>0.304574</td>\n",
       "      <td>-1.087712</td>\n",
       "    </tr>\n",
       "    <tr>\n",
       "      <th>976</th>\n",
       "      <td>1.408464</td>\n",
       "      <td>-0.664147</td>\n",
       "      <td>-1.092047</td>\n",
       "      <td>-0.822256</td>\n",
       "    </tr>\n",
       "    <tr>\n",
       "      <th>977</th>\n",
       "      <td>-0.770098</td>\n",
       "      <td>-2.056522</td>\n",
       "      <td>-0.485830</td>\n",
       "      <td>-2.017140</td>\n",
       "    </tr>\n",
       "    <tr>\n",
       "      <th>978</th>\n",
       "      <td>-0.155342</td>\n",
       "      <td>0.352772</td>\n",
       "      <td>0.432184</td>\n",
       "      <td>-0.466833</td>\n",
       "    </tr>\n",
       "    <tr>\n",
       "      <th>979</th>\n",
       "      <td>-0.402816</td>\n",
       "      <td>1.370081</td>\n",
       "      <td>0.099743</td>\n",
       "      <td>-0.753379</td>\n",
       "    </tr>\n",
       "    <tr>\n",
       "      <th>980</th>\n",
       "      <td>0.387967</td>\n",
       "      <td>1.164092</td>\n",
       "      <td>-1.210629</td>\n",
       "      <td>0.341081</td>\n",
       "    </tr>\n",
       "    <tr>\n",
       "      <th>981</th>\n",
       "      <td>-1.470121</td>\n",
       "      <td>1.220787</td>\n",
       "      <td>-0.703050</td>\n",
       "      <td>0.168953</td>\n",
       "    </tr>\n",
       "    <tr>\n",
       "      <th>982</th>\n",
       "      <td>1.471923</td>\n",
       "      <td>-1.299788</td>\n",
       "      <td>-0.334818</td>\n",
       "      <td>0.767164</td>\n",
       "    </tr>\n",
       "    <tr>\n",
       "      <th>983</th>\n",
       "      <td>-0.274424</td>\n",
       "      <td>0.039031</td>\n",
       "      <td>-2.383756</td>\n",
       "      <td>0.937462</td>\n",
       "    </tr>\n",
       "    <tr>\n",
       "      <th>984</th>\n",
       "      <td>0.378432</td>\n",
       "      <td>-0.329231</td>\n",
       "      <td>0.591335</td>\n",
       "      <td>-1.946393</td>\n",
       "    </tr>\n",
       "    <tr>\n",
       "      <th>985</th>\n",
       "      <td>-0.636353</td>\n",
       "      <td>-0.728613</td>\n",
       "      <td>-0.966238</td>\n",
       "      <td>-0.612428</td>\n",
       "    </tr>\n",
       "    <tr>\n",
       "      <th>986</th>\n",
       "      <td>-1.576731</td>\n",
       "      <td>-2.110403</td>\n",
       "      <td>1.524247</td>\n",
       "      <td>-1.104116</td>\n",
       "    </tr>\n",
       "    <tr>\n",
       "      <th>987</th>\n",
       "      <td>0.908602</td>\n",
       "      <td>-0.799876</td>\n",
       "      <td>1.491745</td>\n",
       "      <td>0.216168</td>\n",
       "    </tr>\n",
       "    <tr>\n",
       "      <th>988</th>\n",
       "      <td>-1.399865</td>\n",
       "      <td>2.128359</td>\n",
       "      <td>0.738895</td>\n",
       "      <td>0.624455</td>\n",
       "    </tr>\n",
       "    <tr>\n",
       "      <th>989</th>\n",
       "      <td>0.060318</td>\n",
       "      <td>-0.718459</td>\n",
       "      <td>0.958779</td>\n",
       "      <td>0.359612</td>\n",
       "    </tr>\n",
       "    <tr>\n",
       "      <th>990</th>\n",
       "      <td>-0.946233</td>\n",
       "      <td>1.125508</td>\n",
       "      <td>0.983314</td>\n",
       "      <td>0.479684</td>\n",
       "    </tr>\n",
       "    <tr>\n",
       "      <th>991</th>\n",
       "      <td>0.367772</td>\n",
       "      <td>-1.255968</td>\n",
       "      <td>-0.227594</td>\n",
       "      <td>-1.100323</td>\n",
       "    </tr>\n",
       "    <tr>\n",
       "      <th>992</th>\n",
       "      <td>-1.385565</td>\n",
       "      <td>1.327913</td>\n",
       "      <td>0.567968</td>\n",
       "      <td>-0.750331</td>\n",
       "    </tr>\n",
       "    <tr>\n",
       "      <th>993</th>\n",
       "      <td>1.658526</td>\n",
       "      <td>-0.060880</td>\n",
       "      <td>0.057455</td>\n",
       "      <td>0.461907</td>\n",
       "    </tr>\n",
       "    <tr>\n",
       "      <th>994</th>\n",
       "      <td>1.179297</td>\n",
       "      <td>-0.989872</td>\n",
       "      <td>-1.329308</td>\n",
       "      <td>-0.568741</td>\n",
       "    </tr>\n",
       "    <tr>\n",
       "      <th>995</th>\n",
       "      <td>0.563629</td>\n",
       "      <td>-0.193362</td>\n",
       "      <td>-0.271003</td>\n",
       "      <td>0.595285</td>\n",
       "    </tr>\n",
       "    <tr>\n",
       "      <th>996</th>\n",
       "      <td>-0.371724</td>\n",
       "      <td>-1.268308</td>\n",
       "      <td>-0.116825</td>\n",
       "      <td>0.503192</td>\n",
       "    </tr>\n",
       "    <tr>\n",
       "      <th>997</th>\n",
       "      <td>0.048793</td>\n",
       "      <td>0.033181</td>\n",
       "      <td>-0.069907</td>\n",
       "      <td>-0.839567</td>\n",
       "    </tr>\n",
       "    <tr>\n",
       "      <th>998</th>\n",
       "      <td>-1.775794</td>\n",
       "      <td>-0.351990</td>\n",
       "      <td>-1.235698</td>\n",
       "      <td>-0.334512</td>\n",
       "    </tr>\n",
       "    <tr>\n",
       "      <th>999</th>\n",
       "      <td>-0.540939</td>\n",
       "      <td>1.408182</td>\n",
       "      <td>-0.006622</td>\n",
       "      <td>-1.616207</td>\n",
       "    </tr>\n",
       "  </tbody>\n",
       "</table>\n",
       "<p>1000 rows × 4 columns</p>\n",
       "</div>"
      ],
      "text/plain": [
       "            0         1         2         3\n",
       "0    2.031634 -0.681873 -0.055951 -0.818654\n",
       "1   -2.755877 -1.493643  1.117108  0.225355\n",
       "2    0.003883 -1.392918  0.620089 -0.306847\n",
       "3    0.321402  0.520977  1.131957  1.416861\n",
       "4   -0.665084 -0.614936  0.409414 -0.533037\n",
       "5   -1.058161  0.911946 -0.546907  1.445128\n",
       "6   -0.697243  1.172319 -1.349796 -0.272158\n",
       "7    1.517882  0.372258  0.592478  1.673593\n",
       "8    0.869842  0.409569 -0.410105 -1.347029\n",
       "9   -1.746111 -0.952306 -0.324193  0.248252\n",
       "10   0.808836  1.593226  0.733953  0.826447\n",
       "11  -0.311874 -1.237431 -0.887581  1.476824\n",
       "12  -0.059633  1.753843  0.455164 -0.219971\n",
       "13   0.836027  0.817352  0.191045  0.253012\n",
       "14   0.554962  1.084497  0.082907 -1.154759\n",
       "15  -1.026376 -1.403126 -1.187005  0.090386\n",
       "16  -0.683750  0.513982 -1.459470 -0.430196\n",
       "17  -0.320376 -0.965667  0.979289 -0.875558\n",
       "18   0.234990 -0.839970 -0.539503 -0.787952\n",
       "19   1.394543 -0.263354  3.126465 -0.665347\n",
       "20  -0.674961  1.160370 -1.641768 -0.036247\n",
       "21  -0.887810 -0.206833 -0.302237 -0.998500\n",
       "22   0.145307  0.864693 -0.110062  0.026412\n",
       "23  -0.042350 -0.589216  0.956048  1.966529\n",
       "24   1.139885 -1.427673  0.136018  0.639139\n",
       "25  -0.320518 -1.430511  1.103966 -0.373688\n",
       "26  -0.070178 -0.123258 -0.487167 -1.930805\n",
       "27  -0.809421  0.204273 -0.239856  0.597481\n",
       "28   0.381966  0.660848  0.407908 -2.000880\n",
       "29   0.680264 -0.340017 -0.001209  0.386289\n",
       "..        ...       ...       ...       ...\n",
       "970 -0.186929 -0.761657 -0.402178 -0.565072\n",
       "971  1.025492  0.587699 -0.693415  0.368027\n",
       "972 -0.543028 -1.274374 -0.377775  0.335792\n",
       "973 -0.041951 -0.176468 -0.005816 -1.495365\n",
       "974  0.022274 -1.002110  0.110785  0.286650\n",
       "975  0.869105  1.470434  0.304574 -1.087712\n",
       "976  1.408464 -0.664147 -1.092047 -0.822256\n",
       "977 -0.770098 -2.056522 -0.485830 -2.017140\n",
       "978 -0.155342  0.352772  0.432184 -0.466833\n",
       "979 -0.402816  1.370081  0.099743 -0.753379\n",
       "980  0.387967  1.164092 -1.210629  0.341081\n",
       "981 -1.470121  1.220787 -0.703050  0.168953\n",
       "982  1.471923 -1.299788 -0.334818  0.767164\n",
       "983 -0.274424  0.039031 -2.383756  0.937462\n",
       "984  0.378432 -0.329231  0.591335 -1.946393\n",
       "985 -0.636353 -0.728613 -0.966238 -0.612428\n",
       "986 -1.576731 -2.110403  1.524247 -1.104116\n",
       "987  0.908602 -0.799876  1.491745  0.216168\n",
       "988 -1.399865  2.128359  0.738895  0.624455\n",
       "989  0.060318 -0.718459  0.958779  0.359612\n",
       "990 -0.946233  1.125508  0.983314  0.479684\n",
       "991  0.367772 -1.255968 -0.227594 -1.100323\n",
       "992 -1.385565  1.327913  0.567968 -0.750331\n",
       "993  1.658526 -0.060880  0.057455  0.461907\n",
       "994  1.179297 -0.989872 -1.329308 -0.568741\n",
       "995  0.563629 -0.193362 -0.271003  0.595285\n",
       "996 -0.371724 -1.268308 -0.116825  0.503192\n",
       "997  0.048793  0.033181 -0.069907 -0.839567\n",
       "998 -1.775794 -0.351990 -1.235698 -0.334512\n",
       "999 -0.540939  1.408182 -0.006622 -1.616207\n",
       "\n",
       "[1000 rows x 4 columns]"
      ]
     },
     "execution_count": 34,
     "metadata": {},
     "output_type": "execute_result"
    }
   ],
   "source": [
    "a = pd.DataFrame(np.random.randn(1000,4))\n",
    "a"
   ]
  },
  {
   "cell_type": "code",
   "execution_count": 36,
   "metadata": {},
   "outputs": [
    {
     "data": {
      "text/plain": [
       "0     -0.681873\n",
       "1     -1.493643\n",
       "2     -1.392918\n",
       "3      0.520977\n",
       "4     -0.614936\n",
       "5      0.911946\n",
       "6      1.172319\n",
       "7      0.372258\n",
       "8      0.409569\n",
       "9     -0.952306\n",
       "10     1.593226\n",
       "11    -1.237431\n",
       "12     1.753843\n",
       "13     0.817352\n",
       "14     1.084497\n",
       "15    -1.403126\n",
       "16     0.513982\n",
       "17    -0.965667\n",
       "18    -0.839970\n",
       "19    -0.263354\n",
       "20     1.160370\n",
       "21    -0.206833\n",
       "22     0.864693\n",
       "23    -0.589216\n",
       "24    -1.427673\n",
       "25    -1.430511\n",
       "26    -0.123258\n",
       "27     0.204273\n",
       "28     0.660848\n",
       "29    -0.340017\n",
       "         ...   \n",
       "970   -0.761657\n",
       "971    0.587699\n",
       "972   -1.274374\n",
       "973   -0.176468\n",
       "974   -1.002110\n",
       "975    1.470434\n",
       "976   -0.664147\n",
       "977   -2.056522\n",
       "978    0.352772\n",
       "979    1.370081\n",
       "980    1.164092\n",
       "981    1.220787\n",
       "982   -1.299788\n",
       "983    0.039031\n",
       "984   -0.329231\n",
       "985   -0.728613\n",
       "986   -2.110403\n",
       "987   -0.799876\n",
       "988    2.128359\n",
       "989   -0.718459\n",
       "990    1.125508\n",
       "991   -1.255968\n",
       "992    1.327913\n",
       "993   -0.060880\n",
       "994   -0.989872\n",
       "995   -0.193362\n",
       "996   -1.268308\n",
       "997    0.033181\n",
       "998   -0.351990\n",
       "999    1.408182\n",
       "Name: 1, Length: 1000, dtype: float64"
      ]
     },
     "execution_count": 36,
     "metadata": {},
     "output_type": "execute_result"
    }
   ],
   "source": [
    "b = a.iloc[:,1]\n",
    "b"
   ]
  },
  {
   "cell_type": "code",
   "execution_count": 38,
   "metadata": {},
   "outputs": [
    {
     "data": {
      "text/plain": [
       "<matplotlib.axes._subplots.AxesSubplot at 0x1eeb30a3f98>"
      ]
     },
     "execution_count": 38,
     "metadata": {},
     "output_type": "execute_result"
    },
    {
     "data": {
      "image/png": "[encoded data removed]",
      "text/plain": [
       "<Figure size 432x288 with 1 Axes>"
      ]
     },
     "metadata": {
      "needs_background": "light"
     },
     "output_type": "display_data"
    }
   ],
   "source": [
    "b.hist()"
   ]
  },
  {
   "cell_type": "code",
   "execution_count": 40,
   "metadata": {},
   "outputs": [
    {
     "data": {
      "text/plain": [
       "-0.005313023255713539"
      ]
     },
     "execution_count": 40,
     "metadata": {},
     "output_type": "execute_result"
    }
   ],
   "source": [
    "b.mean()"
   ]
  },
  {
   "cell_type": "code",
   "execution_count": 42,
   "metadata": {},
   "outputs": [
    {
     "data": {
      "text/plain": [
       "-3.540699465923005"
      ]
     },
     "execution_count": 42,
     "metadata": {},
     "output_type": "execute_result"
    }
   ],
   "source": [
    "b.min()"
   ]
  },
  {
   "cell_type": "code",
   "execution_count": 44,
   "metadata": {},
   "outputs": [
    {
     "data": {
      "text/plain": [
       "3.0133361503819858"
      ]
     },
     "execution_count": 44,
     "metadata": {},
     "output_type": "execute_result"
    }
   ],
   "source": [
    "b.max()"
   ]
  },
  {
   "cell_type": "code",
   "execution_count": 46,
   "metadata": {},
   "outputs": [
    {
     "data": {
      "text/plain": [
       "-0.07754011437601631"
      ]
     },
     "execution_count": 46,
     "metadata": {},
     "output_type": "execute_result"
    }
   ],
   "source": [
    "skew(b)"
   ]
  },
  {
   "cell_type": "code",
   "execution_count": 48,
   "metadata": {},
   "outputs": [
    {
     "data": {
      "text/plain": [
       "-0.025191651322384878"
      ]
     },
     "execution_count": 48,
     "metadata": {},
     "output_type": "execute_result"
    }
   ],
   "source": [
    "kurtosis(b)"
   ]
  },
  {
   "cell_type": "code",
   "execution_count": 51,
   "metadata": {},
   "outputs": [
    {
     "data": {
      "text/plain": [
       "614   -1.749637\n",
       "55    -1.985175\n",
       "532    0.064100\n",
       "755    0.605877\n",
       "571    0.484765\n",
       "600    0.563579\n",
       "422   -0.642524\n",
       "964   -0.884639\n",
       "955    0.442328\n",
       "663   -0.740662\n",
       "891    0.551594\n",
       "902   -0.454195\n",
       "245    1.750854\n",
       "742   -1.263080\n",
       "936    1.577133\n",
       "116    0.736409\n",
       "408    1.038280\n",
       "153    0.134552\n",
       "131    0.104720\n",
       "867    1.467459\n",
       "551   -0.344205\n",
       "287   -0.968483\n",
       "574   -0.202209\n",
       "474    0.529778\n",
       "71     0.248150\n",
       "121   -0.256525\n",
       "935    0.094042\n",
       "671   -1.054613\n",
       "435   -0.476743\n",
       "330   -2.248564\n",
       "         ...   \n",
       "635    0.349639\n",
       "111    0.431719\n",
       "821    0.420096\n",
       "68     0.364318\n",
       "802   -1.088367\n",
       "779   -0.800431\n",
       "72     0.099088\n",
       "833    0.541705\n",
       "590   -1.369916\n",
       "488   -0.786580\n",
       "767    0.379480\n",
       "619    1.199543\n",
       "983    0.039031\n",
       "885   -0.109240\n",
       "141   -0.094826\n",
       "259   -0.299577\n",
       "347    0.305305\n",
       "919   -0.289397\n",
       "152   -1.195311\n",
       "398    0.405792\n",
       "905    0.126040\n",
       "831   -0.934136\n",
       "649    0.455510\n",
       "655    0.110965\n",
       "978    0.352772\n",
       "81     0.994372\n",
       "581   -0.113933\n",
       "165   -0.591909\n",
       "383    0.436786\n",
       "605   -1.729074\n",
       "Name: 1, Length: 100, dtype: float64"
      ]
     },
     "execution_count": 51,
     "metadata": {},
     "output_type": "execute_result"
    }
   ],
   "source": [
    "c = b.sample(n=100)\n",
    "c"
   ]
  },
  {
   "cell_type": "code",
   "execution_count": 53,
   "metadata": {},
   "outputs": [
    {
     "data": {
      "text/plain": [
       "0.028558452240384016"
      ]
     },
     "execution_count": 53,
     "metadata": {},
     "output_type": "execute_result"
    }
   ],
   "source": [
    "c.mean()"
   ]
  },
  {
   "cell_type": "code",
   "execution_count": 55,
   "metadata": {},
   "outputs": [
    {
     "data": {
      "text/plain": [
       "-2.2485644420053688"
      ]
     },
     "execution_count": 55,
     "metadata": {},
     "output_type": "execute_result"
    }
   ],
   "source": [
    "c.min()"
   ]
  },
  {
   "cell_type": "code",
   "execution_count": 57,
   "metadata": {},
   "outputs": [
    {
     "data": {
      "text/plain": [
       "2.3607147723841533"
      ]
     },
     "execution_count": 57,
     "metadata": {},
     "output_type": "execute_result"
    }
   ],
   "source": [
    "c.max()"
   ]
  },
  {
   "cell_type": "code",
   "execution_count": 59,
   "metadata": {},
   "outputs": [
    {
     "data": {
      "text/plain": [
       "<matplotlib.axes._subplots.AxesSubplot at 0x1eeb2bd9470>"
      ]
     },
     "execution_count": 59,
     "metadata": {},
     "output_type": "execute_result"
    },
    {
     "data": {
      "image/png": "[encoded data removed]",
      "text/plain": [
       "<Figure size 432x288 with 1 Axes>"
      ]
     },
     "metadata": {
      "needs_background": "light"
     },
     "output_type": "display_data"
    }
   ],
   "source": [
    "c.hist()"
   ]
  },
  {
   "cell_type": "code",
   "execution_count": 60,
   "metadata": {},
   "outputs": [
    {
     "data": {
      "text/plain": [
       "-0.16899448803432757"
      ]
     },
     "execution_count": 60,
     "metadata": {},
     "output_type": "execute_result"
    }
   ],
   "source": [
    "skew(c)"
   ]
  },
  {
   "cell_type": "code",
   "execution_count": 61,
   "metadata": {},
   "outputs": [
    {
     "data": {
      "text/plain": [
       "0.1073965934229495"
      ]
     },
     "execution_count": 61,
     "metadata": {},
     "output_type": "execute_result"
    }
   ],
   "source": [
    "kurtosis(c)"
   ]
  },
  {
   "cell_type": "code",
   "execution_count": 76,
   "metadata": {},
   "outputs": [
    {
     "data": {
      "text/plain": [
       "882    1.395001\n",
       "161    0.352863\n",
       "687   -0.700553\n",
       "79    -1.190129\n",
       "673   -0.497633\n",
       "985   -0.728613\n",
       "181    1.094648\n",
       "19    -0.263354\n",
       "837   -0.062982\n",
       "310    0.980115\n",
       "830    0.442885\n",
       "881   -0.915147\n",
       "500    0.792425\n",
       "63     1.303854\n",
       "69     1.548781\n",
       "216    0.619739\n",
       "548    0.569095\n",
       "731    1.102557\n",
       "549    0.083857\n",
       "988    2.128359\n",
       "737   -1.231708\n",
       "323   -0.476449\n",
       "361   -1.569560\n",
       "487    1.183888\n",
       "499    1.124746\n",
       "451   -0.045378\n",
       "268   -0.316175\n",
       "607   -0.183812\n",
       "606   -1.192925\n",
       "753   -1.367731\n",
       "         ...   \n",
       "579   -0.052806\n",
       "307   -1.597404\n",
       "168   -0.621225\n",
       "38     0.063193\n",
       "906   -0.324378\n",
       "382   -0.978578\n",
       "932   -1.600344\n",
       "583    1.681506\n",
       "344   -0.683220\n",
       "977   -2.056522\n",
       "578    1.959340\n",
       "567   -0.788023\n",
       "599    0.377695\n",
       "74     0.337821\n",
       "240    0.480864\n",
       "672    1.445755\n",
       "979    1.370081\n",
       "972   -1.274374\n",
       "937    1.056035\n",
       "62     2.182618\n",
       "335    3.013336\n",
       "676    2.211969\n",
       "86     0.871579\n",
       "795    0.709953\n",
       "931    0.079202\n",
       "670   -0.285028\n",
       "984   -0.329231\n",
       "155    1.033224\n",
       "671   -1.054613\n",
       "331    0.185793\n",
       "Name: 1, Length: 500, dtype: float64"
      ]
     },
     "execution_count": 76,
     "metadata": {},
     "output_type": "execute_result"
    }
   ],
   "source": [
    "d = b.sample(n=500)\n",
    "d"
   ]
  },
  {
   "cell_type": "code",
   "execution_count": 77,
   "metadata": {},
   "outputs": [
    {
     "data": {
      "text/plain": [
       "-0.03817399089042078"
      ]
     },
     "execution_count": 77,
     "metadata": {},
     "output_type": "execute_result"
    }
   ],
   "source": [
    "d.mean()"
   ]
  },
  {
   "cell_type": "code",
   "execution_count": 78,
   "metadata": {},
   "outputs": [
    {
     "data": {
      "text/plain": [
       "-3.1613240523626485"
      ]
     },
     "execution_count": 78,
     "metadata": {},
     "output_type": "execute_result"
    }
   ],
   "source": [
    "d.min()"
   ]
  },
  {
   "cell_type": "code",
   "execution_count": 79,
   "metadata": {},
   "outputs": [
    {
     "data": {
      "text/plain": [
       "3.0133361503819858"
      ]
     },
     "execution_count": 79,
     "metadata": {},
     "output_type": "execute_result"
    }
   ],
   "source": [
    "d.max()"
   ]
  },
  {
   "cell_type": "code",
   "execution_count": 80,
   "metadata": {},
   "outputs": [
    {
     "data": {
      "text/plain": [
       "<matplotlib.axes._subplots.AxesSubplot at 0x1eeb2cae6d8>"
      ]
     },
     "execution_count": 80,
     "metadata": {},
     "output_type": "execute_result"
    },
    {
     "data": {
      "image/png": "[encoded data removed]",
      "text/plain": [
       "<Figure size 432x288 with 1 Axes>"
      ]
     },
     "metadata": {
      "needs_background": "light"
     },
     "output_type": "display_data"
    }
   ],
   "source": [
    "d.hist()"
   ]
  },
  {
   "cell_type": "code",
   "execution_count": 82,
   "metadata": {},
   "outputs": [
    {
     "data": {
      "text/plain": [
       "0.025677561017283777"
      ]
     },
     "execution_count": 82,
     "metadata": {},
     "output_type": "execute_result"
    }
   ],
   "source": [
    "skew(d)"
   ]
  },
  {
   "cell_type": "code",
   "execution_count": 83,
   "metadata": {},
   "outputs": [
    {
     "data": {
      "text/plain": [
       "-0.0784801817985814"
      ]
     },
     "execution_count": 83,
     "metadata": {},
     "output_type": "execute_result"
    }
   ],
   "source": [
    "kurtosis(d)"
   ]
  },
  {
   "cell_type": "code",
   "execution_count": 86,
   "metadata": {},
   "outputs": [
    {
     "data": {
      "text/plain": [
       "<matplotlib.axes._subplots.AxesSubplot at 0x1eeb34a9ac8>"
      ]
     },
     "execution_count": 86,
     "metadata": {},
     "output_type": "execute_result"
    },
    {
     "data": {
      "image/png": "[encoded data removed]",
      "text/plain": [
       "<Figure size 432x288 with 1 Axes>"
      ]
     },
     "metadata": {
      "needs_background": "light"
     },
     "output_type": "display_data"
    }
   ],
   "source": [
    "import seaborn as sns\n",
    "sns.boxplot(d)"
   ]
  },
  {
   "cell_type": "code",
   "execution_count": 88,
   "metadata": {},
   "outputs": [
    {
     "data": {
      "text/plain": [
       "count    500.000000\n",
       "mean      -0.038174\n",
       "std        0.997267\n",
       "min       -3.161324\n",
       "25%       -0.682209\n",
       "50%       -0.051010\n",
       "75%        0.585329\n",
       "max        3.013336\n",
       "Name: 1, dtype: float64"
      ]
     },
     "execution_count": 88,
     "metadata": {},
     "output_type": "execute_result"
    }
   ],
   "source": [
    "d.describe()"
   ]
  },
  {
   "cell_type": "code",
   "execution_count": 89,
   "metadata": {},
   "outputs": [],
   "source": [
    "#to load data from a csv file\n",
    "fraud = pd.read_csv('fraudData.csv')"
   ]
  },
  {
   "cell_type": "code",
   "execution_count": 90,
   "metadata": {},
   "outputs": [
    {
     "data": {
      "text/html": [
       "<div>\n",
       "<style scoped>\n",
       "    .dataframe tbody tr th:only-of-type {\n",
       "        vertical-align: middle;\n",
       "    }\n",
       "\n",
       "    .dataframe tbody tr th {\n",
       "        vertical-align: top;\n",
       "    }\n",
       "\n",
       "    .dataframe thead th {\n",
       "        text-align: right;\n",
       "    }\n",
       "</style>\n",
       "<table border=\"1\" class=\"dataframe\">\n",
       "  <thead>\n",
       "    <tr style=\"text-align: right;\">\n",
       "      <th></th>\n",
       "      <th>custID</th>\n",
       "      <th>gender</th>\n",
       "      <th>state</th>\n",
       "      <th>cardholder</th>\n",
       "      <th>balance</th>\n",
       "      <th>numTrans</th>\n",
       "      <th>numIntlTrans</th>\n",
       "      <th>creditLine</th>\n",
       "      <th>fraudRisk</th>\n",
       "    </tr>\n",
       "  </thead>\n",
       "  <tbody>\n",
       "    <tr>\n",
       "      <th>0</th>\n",
       "      <td>1</td>\n",
       "      <td>1</td>\n",
       "      <td>35</td>\n",
       "      <td>1.0</td>\n",
       "      <td>3000.0</td>\n",
       "      <td>4</td>\n",
       "      <td>14</td>\n",
       "      <td>2</td>\n",
       "      <td>0</td>\n",
       "    </tr>\n",
       "    <tr>\n",
       "      <th>1</th>\n",
       "      <td>2</td>\n",
       "      <td>2</td>\n",
       "      <td>2</td>\n",
       "      <td>1.0</td>\n",
       "      <td>0.0</td>\n",
       "      <td>9</td>\n",
       "      <td>0</td>\n",
       "      <td>18</td>\n",
       "      <td>0</td>\n",
       "    </tr>\n",
       "    <tr>\n",
       "      <th>2</th>\n",
       "      <td>3</td>\n",
       "      <td>2</td>\n",
       "      <td>2</td>\n",
       "      <td>1.0</td>\n",
       "      <td>0.0</td>\n",
       "      <td>27</td>\n",
       "      <td>9</td>\n",
       "      <td>16</td>\n",
       "      <td>0</td>\n",
       "    </tr>\n",
       "    <tr>\n",
       "      <th>3</th>\n",
       "      <td>4</td>\n",
       "      <td>1</td>\n",
       "      <td>15</td>\n",
       "      <td>1.0</td>\n",
       "      <td>NaN</td>\n",
       "      <td>12</td>\n",
       "      <td>0</td>\n",
       "      <td>5</td>\n",
       "      <td>0</td>\n",
       "    </tr>\n",
       "    <tr>\n",
       "      <th>4</th>\n",
       "      <td>5</td>\n",
       "      <td>1</td>\n",
       "      <td>46</td>\n",
       "      <td>1.0</td>\n",
       "      <td>0.0</td>\n",
       "      <td>11</td>\n",
       "      <td>16</td>\n",
       "      <td>7</td>\n",
       "      <td>1</td>\n",
       "    </tr>\n",
       "    <tr>\n",
       "      <th>5</th>\n",
       "      <td>6</td>\n",
       "      <td>2</td>\n",
       "      <td>44</td>\n",
       "      <td>2.0</td>\n",
       "      <td>5546.0</td>\n",
       "      <td>21</td>\n",
       "      <td>0</td>\n",
       "      <td>13</td>\n",
       "      <td>0</td>\n",
       "    </tr>\n",
       "    <tr>\n",
       "      <th>6</th>\n",
       "      <td>7</td>\n",
       "      <td>1</td>\n",
       "      <td>3</td>\n",
       "      <td>NaN</td>\n",
       "      <td>NaN</td>\n",
       "      <td>41</td>\n",
       "      <td>0</td>\n",
       "      <td>1</td>\n",
       "      <td>0</td>\n",
       "    </tr>\n",
       "    <tr>\n",
       "      <th>7</th>\n",
       "      <td>8</td>\n",
       "      <td>1</td>\n",
       "      <td>10</td>\n",
       "      <td>1.0</td>\n",
       "      <td>6016.0</td>\n",
       "      <td>20</td>\n",
       "      <td>3</td>\n",
       "      <td>6</td>\n",
       "      <td>0</td>\n",
       "    </tr>\n",
       "    <tr>\n",
       "      <th>8</th>\n",
       "      <td>9</td>\n",
       "      <td>2</td>\n",
       "      <td>32</td>\n",
       "      <td>1.0</td>\n",
       "      <td>2428.0</td>\n",
       "      <td>4</td>\n",
       "      <td>10</td>\n",
       "      <td>22</td>\n",
       "      <td>0</td>\n",
       "    </tr>\n",
       "    <tr>\n",
       "      <th>9</th>\n",
       "      <td>10</td>\n",
       "      <td>1</td>\n",
       "      <td>23</td>\n",
       "      <td>1.0</td>\n",
       "      <td>0.0</td>\n",
       "      <td>18</td>\n",
       "      <td>56</td>\n",
       "      <td>5</td>\n",
       "      <td>1</td>\n",
       "    </tr>\n",
       "    <tr>\n",
       "      <th>10</th>\n",
       "      <td>11</td>\n",
       "      <td>1</td>\n",
       "      <td>46</td>\n",
       "      <td>NaN</td>\n",
       "      <td>4601.0</td>\n",
       "      <td>54</td>\n",
       "      <td>0</td>\n",
       "      <td>4</td>\n",
       "      <td>1</td>\n",
       "    </tr>\n",
       "  </tbody>\n",
       "</table>\n",
       "</div>"
      ],
      "text/plain": [
       "    custID  gender  state  cardholder  balance  numTrans  numIntlTrans  \\\n",
       "0        1       1     35         1.0   3000.0         4            14   \n",
       "1        2       2      2         1.0      0.0         9             0   \n",
       "2        3       2      2         1.0      0.0        27             9   \n",
       "3        4       1     15         1.0      NaN        12             0   \n",
       "4        5       1     46         1.0      0.0        11            16   \n",
       "5        6       2     44         2.0   5546.0        21             0   \n",
       "6        7       1      3         NaN      NaN        41             0   \n",
       "7        8       1     10         1.0   6016.0        20             3   \n",
       "8        9       2     32         1.0   2428.0         4            10   \n",
       "9       10       1     23         1.0      0.0        18            56   \n",
       "10      11       1     46         NaN   4601.0        54             0   \n",
       "\n",
       "    creditLine  fraudRisk  \n",
       "0            2          0  \n",
       "1           18          0  \n",
       "2           16          0  \n",
       "3            5          0  \n",
       "4            7          1  \n",
       "5           13          0  \n",
       "6            1          0  \n",
       "7            6          0  \n",
       "8           22          0  \n",
       "9            5          1  \n",
       "10           4          1  "
      ]
     },
     "execution_count": 90,
     "metadata": {},
     "output_type": "execute_result"
    }
   ],
   "source": [
    "fraud"
   ]
  },
  {
   "cell_type": "code",
   "execution_count": 93,
   "metadata": {},
   "outputs": [
    {
     "data": {
      "text/html": [
       "<div>\n",
       "<style scoped>\n",
       "    .dataframe tbody tr th:only-of-type {\n",
       "        vertical-align: middle;\n",
       "    }\n",
       "\n",
       "    .dataframe tbody tr th {\n",
       "        vertical-align: top;\n",
       "    }\n",
       "\n",
       "    .dataframe thead th {\n",
       "        text-align: right;\n",
       "    }\n",
       "</style>\n",
       "<table border=\"1\" class=\"dataframe\">\n",
       "  <thead>\n",
       "    <tr style=\"text-align: right;\">\n",
       "      <th></th>\n",
       "      <th>custID</th>\n",
       "      <th>gender</th>\n",
       "      <th>state</th>\n",
       "      <th>cardholder</th>\n",
       "      <th>balance</th>\n",
       "      <th>numTrans</th>\n",
       "      <th>numIntlTrans</th>\n",
       "      <th>creditLine</th>\n",
       "      <th>fraudRisk</th>\n",
       "    </tr>\n",
       "  </thead>\n",
       "  <tbody>\n",
       "    <tr>\n",
       "      <th>0</th>\n",
       "      <td>1</td>\n",
       "      <td>1</td>\n",
       "      <td>35</td>\n",
       "      <td>1.0</td>\n",
       "      <td>3000.0</td>\n",
       "      <td>4</td>\n",
       "      <td>14</td>\n",
       "      <td>2</td>\n",
       "      <td>0</td>\n",
       "    </tr>\n",
       "    <tr>\n",
       "      <th>1</th>\n",
       "      <td>2</td>\n",
       "      <td>2</td>\n",
       "      <td>2</td>\n",
       "      <td>1.0</td>\n",
       "      <td>0.0</td>\n",
       "      <td>9</td>\n",
       "      <td>0</td>\n",
       "      <td>18</td>\n",
       "      <td>0</td>\n",
       "    </tr>\n",
       "    <tr>\n",
       "      <th>2</th>\n",
       "      <td>3</td>\n",
       "      <td>2</td>\n",
       "      <td>2</td>\n",
       "      <td>1.0</td>\n",
       "      <td>0.0</td>\n",
       "      <td>27</td>\n",
       "      <td>9</td>\n",
       "      <td>16</td>\n",
       "      <td>0</td>\n",
       "    </tr>\n",
       "    <tr>\n",
       "      <th>3</th>\n",
       "      <td>4</td>\n",
       "      <td>1</td>\n",
       "      <td>15</td>\n",
       "      <td>1.0</td>\n",
       "      <td>NaN</td>\n",
       "      <td>12</td>\n",
       "      <td>0</td>\n",
       "      <td>5</td>\n",
       "      <td>0</td>\n",
       "    </tr>\n",
       "    <tr>\n",
       "      <th>4</th>\n",
       "      <td>5</td>\n",
       "      <td>1</td>\n",
       "      <td>46</td>\n",
       "      <td>1.0</td>\n",
       "      <td>0.0</td>\n",
       "      <td>11</td>\n",
       "      <td>16</td>\n",
       "      <td>7</td>\n",
       "      <td>1</td>\n",
       "    </tr>\n",
       "  </tbody>\n",
       "</table>\n",
       "</div>"
      ],
      "text/plain": [
       "   custID  gender  state  cardholder  balance  numTrans  numIntlTrans  \\\n",
       "0       1       1     35         1.0   3000.0         4            14   \n",
       "1       2       2      2         1.0      0.0         9             0   \n",
       "2       3       2      2         1.0      0.0        27             9   \n",
       "3       4       1     15         1.0      NaN        12             0   \n",
       "4       5       1     46         1.0      0.0        11            16   \n",
       "\n",
       "   creditLine  fraudRisk  \n",
       "0           2          0  \n",
       "1          18          0  \n",
       "2          16          0  \n",
       "3           5          0  \n",
       "4           7          1  "
      ]
     },
     "execution_count": 93,
     "metadata": {},
     "output_type": "execute_result"
    }
   ],
   "source": [
    "#to get the first 5 rows of the data\n",
    "fraud.head()\n"
   ]
  },
  {
   "cell_type": "code",
   "execution_count": 95,
   "metadata": {},
   "outputs": [
    {
     "data": {
      "text/html": [
       "<div>\n",
       "<style scoped>\n",
       "    .dataframe tbody tr th:only-of-type {\n",
       "        vertical-align: middle;\n",
       "    }\n",
       "\n",
       "    .dataframe tbody tr th {\n",
       "        vertical-align: top;\n",
       "    }\n",
       "\n",
       "    .dataframe thead th {\n",
       "        text-align: right;\n",
       "    }\n",
       "</style>\n",
       "<table border=\"1\" class=\"dataframe\">\n",
       "  <thead>\n",
       "    <tr style=\"text-align: right;\">\n",
       "      <th></th>\n",
       "      <th>custID</th>\n",
       "      <th>gender</th>\n",
       "      <th>state</th>\n",
       "      <th>cardholder</th>\n",
       "      <th>balance</th>\n",
       "      <th>numTrans</th>\n",
       "      <th>numIntlTrans</th>\n",
       "      <th>creditLine</th>\n",
       "      <th>fraudRisk</th>\n",
       "    </tr>\n",
       "  </thead>\n",
       "  <tbody>\n",
       "    <tr>\n",
       "      <th>6</th>\n",
       "      <td>7</td>\n",
       "      <td>1</td>\n",
       "      <td>3</td>\n",
       "      <td>NaN</td>\n",
       "      <td>NaN</td>\n",
       "      <td>41</td>\n",
       "      <td>0</td>\n",
       "      <td>1</td>\n",
       "      <td>0</td>\n",
       "    </tr>\n",
       "    <tr>\n",
       "      <th>7</th>\n",
       "      <td>8</td>\n",
       "      <td>1</td>\n",
       "      <td>10</td>\n",
       "      <td>1.0</td>\n",
       "      <td>6016.0</td>\n",
       "      <td>20</td>\n",
       "      <td>3</td>\n",
       "      <td>6</td>\n",
       "      <td>0</td>\n",
       "    </tr>\n",
       "    <tr>\n",
       "      <th>8</th>\n",
       "      <td>9</td>\n",
       "      <td>2</td>\n",
       "      <td>32</td>\n",
       "      <td>1.0</td>\n",
       "      <td>2428.0</td>\n",
       "      <td>4</td>\n",
       "      <td>10</td>\n",
       "      <td>22</td>\n",
       "      <td>0</td>\n",
       "    </tr>\n",
       "    <tr>\n",
       "      <th>9</th>\n",
       "      <td>10</td>\n",
       "      <td>1</td>\n",
       "      <td>23</td>\n",
       "      <td>1.0</td>\n",
       "      <td>0.0</td>\n",
       "      <td>18</td>\n",
       "      <td>56</td>\n",
       "      <td>5</td>\n",
       "      <td>1</td>\n",
       "    </tr>\n",
       "    <tr>\n",
       "      <th>10</th>\n",
       "      <td>11</td>\n",
       "      <td>1</td>\n",
       "      <td>46</td>\n",
       "      <td>NaN</td>\n",
       "      <td>4601.0</td>\n",
       "      <td>54</td>\n",
       "      <td>0</td>\n",
       "      <td>4</td>\n",
       "      <td>1</td>\n",
       "    </tr>\n",
       "  </tbody>\n",
       "</table>\n",
       "</div>"
      ],
      "text/plain": [
       "    custID  gender  state  cardholder  balance  numTrans  numIntlTrans  \\\n",
       "6        7       1      3         NaN      NaN        41             0   \n",
       "7        8       1     10         1.0   6016.0        20             3   \n",
       "8        9       2     32         1.0   2428.0         4            10   \n",
       "9       10       1     23         1.0      0.0        18            56   \n",
       "10      11       1     46         NaN   4601.0        54             0   \n",
       "\n",
       "    creditLine  fraudRisk  \n",
       "6            1          0  \n",
       "7            6          0  \n",
       "8           22          0  \n",
       "9            5          1  \n",
       "10           4          1  "
      ]
     },
     "execution_count": 95,
     "metadata": {},
     "output_type": "execute_result"
    }
   ],
   "source": [
    "#to get the last 5 rows of the data\n",
    "fraud.tail()"
   ]
  },
  {
   "cell_type": "code",
   "execution_count": 96,
   "metadata": {},
   "outputs": [
    {
     "data": {
      "text/plain": [
       "Index(['custID', 'gender', 'state', 'cardholder', 'balance', 'numTrans',\n",
       "       'numIntlTrans', 'creditLine', 'fraudRisk'],\n",
       "      dtype='object')"
      ]
     },
     "execution_count": 96,
     "metadata": {},
     "output_type": "execute_result"
    }
   ],
   "source": [
    "#to get all the column names\n",
    "fraud.columns"
   ]
  },
  {
   "cell_type": "code",
   "execution_count": 97,
   "metadata": {},
   "outputs": [
    {
     "name": "stdout",
     "output_type": "stream",
     "text": [
      "<class 'pandas.core.frame.DataFrame'>\n",
      "RangeIndex: 11 entries, 0 to 10\n",
      "Data columns (total 9 columns):\n",
      "custID          11 non-null int64\n",
      "gender          11 non-null int64\n",
      "state           11 non-null int64\n",
      "cardholder      9 non-null float64\n",
      "balance         9 non-null float64\n",
      "numTrans        11 non-null int64\n",
      "numIntlTrans    11 non-null int64\n",
      "creditLine      11 non-null int64\n",
      "fraudRisk       11 non-null int64\n",
      "dtypes: float64(2), int64(7)\n",
      "memory usage: 872.0 bytes\n"
     ]
    }
   ],
   "source": [
    "#to check the information about the data\n",
    "fraud.info()"
   ]
  },
  {
   "cell_type": "code",
   "execution_count": 99,
   "metadata": {},
   "outputs": [
    {
     "data": {
      "text/plain": [
       "(11, 9)"
      ]
     },
     "execution_count": 99,
     "metadata": {},
     "output_type": "execute_result"
    }
   ],
   "source": [
    "fraud.shape"
   ]
  },
  {
   "cell_type": "code",
   "execution_count": 100,
   "metadata": {},
   "outputs": [
    {
     "data": {
      "text/plain": [
       "0     False\n",
       "1     False\n",
       "2     False\n",
       "3     False\n",
       "4     False\n",
       "5     False\n",
       "6      True\n",
       "7     False\n",
       "8     False\n",
       "9     False\n",
       "10     True\n",
       "Name: cardholder, dtype: bool"
      ]
     },
     "execution_count": 100,
     "metadata": {},
     "output_type": "execute_result"
    }
   ],
   "source": [
    "#check if there is any null value in the column-'cardholder'\n",
    "fraud.cardholder.isna()\n",
    "\n",
    "#there are two null values"
   ]
  },
  {
   "cell_type": "code",
   "execution_count": 101,
   "metadata": {},
   "outputs": [
    {
     "data": {
      "text/plain": [
       "2"
      ]
     },
     "execution_count": 101,
     "metadata": {},
     "output_type": "execute_result"
    }
   ],
   "source": [
    "#to get the count of the null values in the column\n",
    "fraud.cardholder.isna().sum()\n"
   ]
  },
  {
   "cell_type": "code",
   "execution_count": 102,
   "metadata": {},
   "outputs": [
    {
     "data": {
      "text/html": [
       "<div>\n",
       "<style scoped>\n",
       "    .dataframe tbody tr th:only-of-type {\n",
       "        vertical-align: middle;\n",
       "    }\n",
       "\n",
       "    .dataframe tbody tr th {\n",
       "        vertical-align: top;\n",
       "    }\n",
       "\n",
       "    .dataframe thead th {\n",
       "        text-align: right;\n",
       "    }\n",
       "</style>\n",
       "<table border=\"1\" class=\"dataframe\">\n",
       "  <thead>\n",
       "    <tr style=\"text-align: right;\">\n",
       "      <th></th>\n",
       "      <th>custID</th>\n",
       "      <th>gender</th>\n",
       "      <th>state</th>\n",
       "      <th>cardholder</th>\n",
       "      <th>balance</th>\n",
       "      <th>numTrans</th>\n",
       "      <th>numIntlTrans</th>\n",
       "      <th>creditLine</th>\n",
       "      <th>fraudRisk</th>\n",
       "    </tr>\n",
       "  </thead>\n",
       "  <tbody>\n",
       "    <tr>\n",
       "      <th>0</th>\n",
       "      <td>1</td>\n",
       "      <td>1</td>\n",
       "      <td>35</td>\n",
       "      <td>1.0</td>\n",
       "      <td>3000.0</td>\n",
       "      <td>4</td>\n",
       "      <td>14</td>\n",
       "      <td>2</td>\n",
       "      <td>0</td>\n",
       "    </tr>\n",
       "    <tr>\n",
       "      <th>1</th>\n",
       "      <td>2</td>\n",
       "      <td>2</td>\n",
       "      <td>2</td>\n",
       "      <td>1.0</td>\n",
       "      <td>0.0</td>\n",
       "      <td>9</td>\n",
       "      <td>0</td>\n",
       "      <td>18</td>\n",
       "      <td>0</td>\n",
       "    </tr>\n",
       "    <tr>\n",
       "      <th>2</th>\n",
       "      <td>3</td>\n",
       "      <td>2</td>\n",
       "      <td>2</td>\n",
       "      <td>1.0</td>\n",
       "      <td>0.0</td>\n",
       "      <td>27</td>\n",
       "      <td>9</td>\n",
       "      <td>16</td>\n",
       "      <td>0</td>\n",
       "    </tr>\n",
       "    <tr>\n",
       "      <th>4</th>\n",
       "      <td>5</td>\n",
       "      <td>1</td>\n",
       "      <td>46</td>\n",
       "      <td>1.0</td>\n",
       "      <td>0.0</td>\n",
       "      <td>11</td>\n",
       "      <td>16</td>\n",
       "      <td>7</td>\n",
       "      <td>1</td>\n",
       "    </tr>\n",
       "    <tr>\n",
       "      <th>5</th>\n",
       "      <td>6</td>\n",
       "      <td>2</td>\n",
       "      <td>44</td>\n",
       "      <td>2.0</td>\n",
       "      <td>5546.0</td>\n",
       "      <td>21</td>\n",
       "      <td>0</td>\n",
       "      <td>13</td>\n",
       "      <td>0</td>\n",
       "    </tr>\n",
       "    <tr>\n",
       "      <th>7</th>\n",
       "      <td>8</td>\n",
       "      <td>1</td>\n",
       "      <td>10</td>\n",
       "      <td>1.0</td>\n",
       "      <td>6016.0</td>\n",
       "      <td>20</td>\n",
       "      <td>3</td>\n",
       "      <td>6</td>\n",
       "      <td>0</td>\n",
       "    </tr>\n",
       "    <tr>\n",
       "      <th>8</th>\n",
       "      <td>9</td>\n",
       "      <td>2</td>\n",
       "      <td>32</td>\n",
       "      <td>1.0</td>\n",
       "      <td>2428.0</td>\n",
       "      <td>4</td>\n",
       "      <td>10</td>\n",
       "      <td>22</td>\n",
       "      <td>0</td>\n",
       "    </tr>\n",
       "    <tr>\n",
       "      <th>9</th>\n",
       "      <td>10</td>\n",
       "      <td>1</td>\n",
       "      <td>23</td>\n",
       "      <td>1.0</td>\n",
       "      <td>0.0</td>\n",
       "      <td>18</td>\n",
       "      <td>56</td>\n",
       "      <td>5</td>\n",
       "      <td>1</td>\n",
       "    </tr>\n",
       "  </tbody>\n",
       "</table>\n",
       "</div>"
      ],
      "text/plain": [
       "   custID  gender  state  cardholder  balance  numTrans  numIntlTrans  \\\n",
       "0       1       1     35         1.0   3000.0         4            14   \n",
       "1       2       2      2         1.0      0.0         9             0   \n",
       "2       3       2      2         1.0      0.0        27             9   \n",
       "4       5       1     46         1.0      0.0        11            16   \n",
       "5       6       2     44         2.0   5546.0        21             0   \n",
       "7       8       1     10         1.0   6016.0        20             3   \n",
       "8       9       2     32         1.0   2428.0         4            10   \n",
       "9      10       1     23         1.0      0.0        18            56   \n",
       "\n",
       "   creditLine  fraudRisk  \n",
       "0           2          0  \n",
       "1          18          0  \n",
       "2          16          0  \n",
       "4           7          1  \n",
       "5          13          0  \n",
       "7           6          0  \n",
       "8          22          0  \n",
       "9           5          1  "
      ]
     },
     "execution_count": 102,
     "metadata": {},
     "output_type": "execute_result"
    }
   ],
   "source": [
    "#to drop/delete all null values across rows\n",
    "fraud.dropna(axis = 0)\n",
    "\n",
    "#its not a good idea"
   ]
  },
  {
   "cell_type": "code",
   "execution_count": 103,
   "metadata": {},
   "outputs": [
    {
     "data": {
      "text/html": [
       "<div>\n",
       "<style scoped>\n",
       "    .dataframe tbody tr th:only-of-type {\n",
       "        vertical-align: middle;\n",
       "    }\n",
       "\n",
       "    .dataframe tbody tr th {\n",
       "        vertical-align: top;\n",
       "    }\n",
       "\n",
       "    .dataframe thead th {\n",
       "        text-align: right;\n",
       "    }\n",
       "</style>\n",
       "<table border=\"1\" class=\"dataframe\">\n",
       "  <thead>\n",
       "    <tr style=\"text-align: right;\">\n",
       "      <th></th>\n",
       "      <th>custID</th>\n",
       "      <th>gender</th>\n",
       "      <th>state</th>\n",
       "      <th>numTrans</th>\n",
       "      <th>numIntlTrans</th>\n",
       "      <th>creditLine</th>\n",
       "      <th>fraudRisk</th>\n",
       "    </tr>\n",
       "  </thead>\n",
       "  <tbody>\n",
       "    <tr>\n",
       "      <th>0</th>\n",
       "      <td>1</td>\n",
       "      <td>1</td>\n",
       "      <td>35</td>\n",
       "      <td>4</td>\n",
       "      <td>14</td>\n",
       "      <td>2</td>\n",
       "      <td>0</td>\n",
       "    </tr>\n",
       "    <tr>\n",
       "      <th>1</th>\n",
       "      <td>2</td>\n",
       "      <td>2</td>\n",
       "      <td>2</td>\n",
       "      <td>9</td>\n",
       "      <td>0</td>\n",
       "      <td>18</td>\n",
       "      <td>0</td>\n",
       "    </tr>\n",
       "    <tr>\n",
       "      <th>2</th>\n",
       "      <td>3</td>\n",
       "      <td>2</td>\n",
       "      <td>2</td>\n",
       "      <td>27</td>\n",
       "      <td>9</td>\n",
       "      <td>16</td>\n",
       "      <td>0</td>\n",
       "    </tr>\n",
       "    <tr>\n",
       "      <th>3</th>\n",
       "      <td>4</td>\n",
       "      <td>1</td>\n",
       "      <td>15</td>\n",
       "      <td>12</td>\n",
       "      <td>0</td>\n",
       "      <td>5</td>\n",
       "      <td>0</td>\n",
       "    </tr>\n",
       "    <tr>\n",
       "      <th>4</th>\n",
       "      <td>5</td>\n",
       "      <td>1</td>\n",
       "      <td>46</td>\n",
       "      <td>11</td>\n",
       "      <td>16</td>\n",
       "      <td>7</td>\n",
       "      <td>1</td>\n",
       "    </tr>\n",
       "    <tr>\n",
       "      <th>5</th>\n",
       "      <td>6</td>\n",
       "      <td>2</td>\n",
       "      <td>44</td>\n",
       "      <td>21</td>\n",
       "      <td>0</td>\n",
       "      <td>13</td>\n",
       "      <td>0</td>\n",
       "    </tr>\n",
       "    <tr>\n",
       "      <th>6</th>\n",
       "      <td>7</td>\n",
       "      <td>1</td>\n",
       "      <td>3</td>\n",
       "      <td>41</td>\n",
       "      <td>0</td>\n",
       "      <td>1</td>\n",
       "      <td>0</td>\n",
       "    </tr>\n",
       "    <tr>\n",
       "      <th>7</th>\n",
       "      <td>8</td>\n",
       "      <td>1</td>\n",
       "      <td>10</td>\n",
       "      <td>20</td>\n",
       "      <td>3</td>\n",
       "      <td>6</td>\n",
       "      <td>0</td>\n",
       "    </tr>\n",
       "    <tr>\n",
       "      <th>8</th>\n",
       "      <td>9</td>\n",
       "      <td>2</td>\n",
       "      <td>32</td>\n",
       "      <td>4</td>\n",
       "      <td>10</td>\n",
       "      <td>22</td>\n",
       "      <td>0</td>\n",
       "    </tr>\n",
       "    <tr>\n",
       "      <th>9</th>\n",
       "      <td>10</td>\n",
       "      <td>1</td>\n",
       "      <td>23</td>\n",
       "      <td>18</td>\n",
       "      <td>56</td>\n",
       "      <td>5</td>\n",
       "      <td>1</td>\n",
       "    </tr>\n",
       "    <tr>\n",
       "      <th>10</th>\n",
       "      <td>11</td>\n",
       "      <td>1</td>\n",
       "      <td>46</td>\n",
       "      <td>54</td>\n",
       "      <td>0</td>\n",
       "      <td>4</td>\n",
       "      <td>1</td>\n",
       "    </tr>\n",
       "  </tbody>\n",
       "</table>\n",
       "</div>"
      ],
      "text/plain": [
       "    custID  gender  state  numTrans  numIntlTrans  creditLine  fraudRisk\n",
       "0        1       1     35         4            14           2          0\n",
       "1        2       2      2         9             0          18          0\n",
       "2        3       2      2        27             9          16          0\n",
       "3        4       1     15        12             0           5          0\n",
       "4        5       1     46        11            16           7          1\n",
       "5        6       2     44        21             0          13          0\n",
       "6        7       1      3        41             0           1          0\n",
       "7        8       1     10        20             3           6          0\n",
       "8        9       2     32         4            10          22          0\n",
       "9       10       1     23        18            56           5          1\n",
       "10      11       1     46        54             0           4          1"
      ]
     },
     "execution_count": 103,
     "metadata": {},
     "output_type": "execute_result"
    }
   ],
   "source": [
    "#to drop null values across columns\n",
    "fraud.dropna(axis = 1)"
   ]
  },
  {
   "cell_type": "code",
   "execution_count": 104,
   "metadata": {},
   "outputs": [
    {
     "data": {
      "text/html": [
       "<div>\n",
       "<style scoped>\n",
       "    .dataframe tbody tr th:only-of-type {\n",
       "        vertical-align: middle;\n",
       "    }\n",
       "\n",
       "    .dataframe tbody tr th {\n",
       "        vertical-align: top;\n",
       "    }\n",
       "\n",
       "    .dataframe thead th {\n",
       "        text-align: right;\n",
       "    }\n",
       "</style>\n",
       "<table border=\"1\" class=\"dataframe\">\n",
       "  <thead>\n",
       "    <tr style=\"text-align: right;\">\n",
       "      <th></th>\n",
       "      <th>custID</th>\n",
       "      <th>gender</th>\n",
       "      <th>state</th>\n",
       "      <th>cardholder</th>\n",
       "      <th>balance</th>\n",
       "      <th>numTrans</th>\n",
       "      <th>numIntlTrans</th>\n",
       "      <th>creditLine</th>\n",
       "      <th>fraudRisk</th>\n",
       "    </tr>\n",
       "  </thead>\n",
       "  <tbody>\n",
       "    <tr>\n",
       "      <th>0</th>\n",
       "      <td>1</td>\n",
       "      <td>1</td>\n",
       "      <td>35</td>\n",
       "      <td>1.0</td>\n",
       "      <td>3000.0</td>\n",
       "      <td>4</td>\n",
       "      <td>14</td>\n",
       "      <td>2</td>\n",
       "      <td>0</td>\n",
       "    </tr>\n",
       "    <tr>\n",
       "      <th>1</th>\n",
       "      <td>2</td>\n",
       "      <td>2</td>\n",
       "      <td>2</td>\n",
       "      <td>1.0</td>\n",
       "      <td>0.0</td>\n",
       "      <td>9</td>\n",
       "      <td>0</td>\n",
       "      <td>18</td>\n",
       "      <td>0</td>\n",
       "    </tr>\n",
       "    <tr>\n",
       "      <th>2</th>\n",
       "      <td>3</td>\n",
       "      <td>2</td>\n",
       "      <td>2</td>\n",
       "      <td>1.0</td>\n",
       "      <td>0.0</td>\n",
       "      <td>27</td>\n",
       "      <td>9</td>\n",
       "      <td>16</td>\n",
       "      <td>0</td>\n",
       "    </tr>\n",
       "    <tr>\n",
       "      <th>3</th>\n",
       "      <td>4</td>\n",
       "      <td>1</td>\n",
       "      <td>15</td>\n",
       "      <td>1.0</td>\n",
       "      <td>10.0</td>\n",
       "      <td>12</td>\n",
       "      <td>0</td>\n",
       "      <td>5</td>\n",
       "      <td>0</td>\n",
       "    </tr>\n",
       "    <tr>\n",
       "      <th>4</th>\n",
       "      <td>5</td>\n",
       "      <td>1</td>\n",
       "      <td>46</td>\n",
       "      <td>1.0</td>\n",
       "      <td>0.0</td>\n",
       "      <td>11</td>\n",
       "      <td>16</td>\n",
       "      <td>7</td>\n",
       "      <td>1</td>\n",
       "    </tr>\n",
       "    <tr>\n",
       "      <th>5</th>\n",
       "      <td>6</td>\n",
       "      <td>2</td>\n",
       "      <td>44</td>\n",
       "      <td>2.0</td>\n",
       "      <td>5546.0</td>\n",
       "      <td>21</td>\n",
       "      <td>0</td>\n",
       "      <td>13</td>\n",
       "      <td>0</td>\n",
       "    </tr>\n",
       "    <tr>\n",
       "      <th>6</th>\n",
       "      <td>7</td>\n",
       "      <td>1</td>\n",
       "      <td>3</td>\n",
       "      <td>10.0</td>\n",
       "      <td>10.0</td>\n",
       "      <td>41</td>\n",
       "      <td>0</td>\n",
       "      <td>1</td>\n",
       "      <td>0</td>\n",
       "    </tr>\n",
       "    <tr>\n",
       "      <th>7</th>\n",
       "      <td>8</td>\n",
       "      <td>1</td>\n",
       "      <td>10</td>\n",
       "      <td>1.0</td>\n",
       "      <td>6016.0</td>\n",
       "      <td>20</td>\n",
       "      <td>3</td>\n",
       "      <td>6</td>\n",
       "      <td>0</td>\n",
       "    </tr>\n",
       "    <tr>\n",
       "      <th>8</th>\n",
       "      <td>9</td>\n",
       "      <td>2</td>\n",
       "      <td>32</td>\n",
       "      <td>1.0</td>\n",
       "      <td>2428.0</td>\n",
       "      <td>4</td>\n",
       "      <td>10</td>\n",
       "      <td>22</td>\n",
       "      <td>0</td>\n",
       "    </tr>\n",
       "    <tr>\n",
       "      <th>9</th>\n",
       "      <td>10</td>\n",
       "      <td>1</td>\n",
       "      <td>23</td>\n",
       "      <td>1.0</td>\n",
       "      <td>0.0</td>\n",
       "      <td>18</td>\n",
       "      <td>56</td>\n",
       "      <td>5</td>\n",
       "      <td>1</td>\n",
       "    </tr>\n",
       "    <tr>\n",
       "      <th>10</th>\n",
       "      <td>11</td>\n",
       "      <td>1</td>\n",
       "      <td>46</td>\n",
       "      <td>10.0</td>\n",
       "      <td>4601.0</td>\n",
       "      <td>54</td>\n",
       "      <td>0</td>\n",
       "      <td>4</td>\n",
       "      <td>1</td>\n",
       "    </tr>\n",
       "  </tbody>\n",
       "</table>\n",
       "</div>"
      ],
      "text/plain": [
       "    custID  gender  state  cardholder  balance  numTrans  numIntlTrans  \\\n",
       "0        1       1     35         1.0   3000.0         4            14   \n",
       "1        2       2      2         1.0      0.0         9             0   \n",
       "2        3       2      2         1.0      0.0        27             9   \n",
       "3        4       1     15         1.0     10.0        12             0   \n",
       "4        5       1     46         1.0      0.0        11            16   \n",
       "5        6       2     44         2.0   5546.0        21             0   \n",
       "6        7       1      3        10.0     10.0        41             0   \n",
       "7        8       1     10         1.0   6016.0        20             3   \n",
       "8        9       2     32         1.0   2428.0         4            10   \n",
       "9       10       1     23         1.0      0.0        18            56   \n",
       "10      11       1     46        10.0   4601.0        54             0   \n",
       "\n",
       "    creditLine  fraudRisk  \n",
       "0            2          0  \n",
       "1           18          0  \n",
       "2           16          0  \n",
       "3            5          0  \n",
       "4            7          1  \n",
       "5           13          0  \n",
       "6            1          0  \n",
       "7            6          0  \n",
       "8           22          0  \n",
       "9            5          1  \n",
       "10           4          1  "
      ]
     },
     "execution_count": 104,
     "metadata": {},
     "output_type": "execute_result"
    }
   ],
   "source": [
    "#to fill the null values\n",
    "fraud.fillna(10)"
   ]
  },
  {
   "cell_type": "code",
   "execution_count": 105,
   "metadata": {},
   "outputs": [
    {
     "data": {
      "text/html": [
       "<div>\n",
       "<style scoped>\n",
       "    .dataframe tbody tr th:only-of-type {\n",
       "        vertical-align: middle;\n",
       "    }\n",
       "\n",
       "    .dataframe tbody tr th {\n",
       "        vertical-align: top;\n",
       "    }\n",
       "\n",
       "    .dataframe thead th {\n",
       "        text-align: right;\n",
       "    }\n",
       "</style>\n",
       "<table border=\"1\" class=\"dataframe\">\n",
       "  <thead>\n",
       "    <tr style=\"text-align: right;\">\n",
       "      <th></th>\n",
       "      <th>custID</th>\n",
       "      <th>gender</th>\n",
       "      <th>state</th>\n",
       "      <th>cardholder</th>\n",
       "      <th>balance</th>\n",
       "      <th>numTrans</th>\n",
       "      <th>numIntlTrans</th>\n",
       "      <th>creditLine</th>\n",
       "      <th>fraudRisk</th>\n",
       "    </tr>\n",
       "  </thead>\n",
       "  <tbody>\n",
       "    <tr>\n",
       "      <th>0</th>\n",
       "      <td>1</td>\n",
       "      <td>1</td>\n",
       "      <td>35</td>\n",
       "      <td>1.000000</td>\n",
       "      <td>3000.0</td>\n",
       "      <td>4</td>\n",
       "      <td>14</td>\n",
       "      <td>2</td>\n",
       "      <td>0</td>\n",
       "    </tr>\n",
       "    <tr>\n",
       "      <th>1</th>\n",
       "      <td>2</td>\n",
       "      <td>2</td>\n",
       "      <td>2</td>\n",
       "      <td>1.000000</td>\n",
       "      <td>0.0</td>\n",
       "      <td>9</td>\n",
       "      <td>0</td>\n",
       "      <td>18</td>\n",
       "      <td>0</td>\n",
       "    </tr>\n",
       "    <tr>\n",
       "      <th>2</th>\n",
       "      <td>3</td>\n",
       "      <td>2</td>\n",
       "      <td>2</td>\n",
       "      <td>1.000000</td>\n",
       "      <td>0.0</td>\n",
       "      <td>27</td>\n",
       "      <td>9</td>\n",
       "      <td>16</td>\n",
       "      <td>0</td>\n",
       "    </tr>\n",
       "    <tr>\n",
       "      <th>3</th>\n",
       "      <td>4</td>\n",
       "      <td>1</td>\n",
       "      <td>15</td>\n",
       "      <td>1.000000</td>\n",
       "      <td>2399.0</td>\n",
       "      <td>12</td>\n",
       "      <td>0</td>\n",
       "      <td>5</td>\n",
       "      <td>0</td>\n",
       "    </tr>\n",
       "    <tr>\n",
       "      <th>4</th>\n",
       "      <td>5</td>\n",
       "      <td>1</td>\n",
       "      <td>46</td>\n",
       "      <td>1.000000</td>\n",
       "      <td>0.0</td>\n",
       "      <td>11</td>\n",
       "      <td>16</td>\n",
       "      <td>7</td>\n",
       "      <td>1</td>\n",
       "    </tr>\n",
       "    <tr>\n",
       "      <th>5</th>\n",
       "      <td>6</td>\n",
       "      <td>2</td>\n",
       "      <td>44</td>\n",
       "      <td>2.000000</td>\n",
       "      <td>5546.0</td>\n",
       "      <td>21</td>\n",
       "      <td>0</td>\n",
       "      <td>13</td>\n",
       "      <td>0</td>\n",
       "    </tr>\n",
       "    <tr>\n",
       "      <th>6</th>\n",
       "      <td>7</td>\n",
       "      <td>1</td>\n",
       "      <td>3</td>\n",
       "      <td>1.111111</td>\n",
       "      <td>2399.0</td>\n",
       "      <td>41</td>\n",
       "      <td>0</td>\n",
       "      <td>1</td>\n",
       "      <td>0</td>\n",
       "    </tr>\n",
       "    <tr>\n",
       "      <th>7</th>\n",
       "      <td>8</td>\n",
       "      <td>1</td>\n",
       "      <td>10</td>\n",
       "      <td>1.000000</td>\n",
       "      <td>6016.0</td>\n",
       "      <td>20</td>\n",
       "      <td>3</td>\n",
       "      <td>6</td>\n",
       "      <td>0</td>\n",
       "    </tr>\n",
       "    <tr>\n",
       "      <th>8</th>\n",
       "      <td>9</td>\n",
       "      <td>2</td>\n",
       "      <td>32</td>\n",
       "      <td>1.000000</td>\n",
       "      <td>2428.0</td>\n",
       "      <td>4</td>\n",
       "      <td>10</td>\n",
       "      <td>22</td>\n",
       "      <td>0</td>\n",
       "    </tr>\n",
       "    <tr>\n",
       "      <th>9</th>\n",
       "      <td>10</td>\n",
       "      <td>1</td>\n",
       "      <td>23</td>\n",
       "      <td>1.000000</td>\n",
       "      <td>0.0</td>\n",
       "      <td>18</td>\n",
       "      <td>56</td>\n",
       "      <td>5</td>\n",
       "      <td>1</td>\n",
       "    </tr>\n",
       "    <tr>\n",
       "      <th>10</th>\n",
       "      <td>11</td>\n",
       "      <td>1</td>\n",
       "      <td>46</td>\n",
       "      <td>1.111111</td>\n",
       "      <td>4601.0</td>\n",
       "      <td>54</td>\n",
       "      <td>0</td>\n",
       "      <td>4</td>\n",
       "      <td>1</td>\n",
       "    </tr>\n",
       "  </tbody>\n",
       "</table>\n",
       "</div>"
      ],
      "text/plain": [
       "    custID  gender  state  cardholder  balance  numTrans  numIntlTrans  \\\n",
       "0        1       1     35    1.000000   3000.0         4            14   \n",
       "1        2       2      2    1.000000      0.0         9             0   \n",
       "2        3       2      2    1.000000      0.0        27             9   \n",
       "3        4       1     15    1.000000   2399.0        12             0   \n",
       "4        5       1     46    1.000000      0.0        11            16   \n",
       "5        6       2     44    2.000000   5546.0        21             0   \n",
       "6        7       1      3    1.111111   2399.0        41             0   \n",
       "7        8       1     10    1.000000   6016.0        20             3   \n",
       "8        9       2     32    1.000000   2428.0         4            10   \n",
       "9       10       1     23    1.000000      0.0        18            56   \n",
       "10      11       1     46    1.111111   4601.0        54             0   \n",
       "\n",
       "    creditLine  fraudRisk  \n",
       "0            2          0  \n",
       "1           18          0  \n",
       "2           16          0  \n",
       "3            5          0  \n",
       "4            7          1  \n",
       "5           13          0  \n",
       "6            1          0  \n",
       "7            6          0  \n",
       "8           22          0  \n",
       "9            5          1  \n",
       "10           4          1  "
      ]
     },
     "execution_count": 105,
     "metadata": {},
     "output_type": "execute_result"
    }
   ],
   "source": [
    "#full the null values with column mean values\n",
    "fraud.fillna(fraud.mean())"
   ]
  },
  {
   "cell_type": "raw",
   "metadata": {},
   "source": [
    "Use MEAN when data is non-skewed\n",
    "Use MODE when data is skewed\n",
    "use MEDIAN when data is discrete(alphabetical or categorical)"
   ]
  },
  {
   "cell_type": "code",
   "execution_count": null,
   "metadata": {},
   "outputs": [],
   "source": []
  }
 ],
 "metadata": {
  "kernelspec": {
   "display_name": "Python 3",
   "language": "python",
   "name": "python3"
  },
  "language_info": {
   "codemirror_mode": {
    "name": "ipython",
    "version": 3
   },
   "file_extension": ".py",
   "mimetype": "text/x-python",
   "name": "python",
   "nbconvert_exporter": "python",
   "pygments_lexer": "ipython3",
   "version": "3.7.3"
  }
 },
 "nbformat": 4,
 "nbformat_minor": 2
}
